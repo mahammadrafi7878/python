{
 "cells": [
  {
   "cell_type": "raw",
   "id": "ed782571",
   "metadata": {},
   "source": [
    "1. What exactly is []?"
   ]
  },
  {
   "cell_type": "raw",
   "id": "13c73b19",
   "metadata": {},
   "source": [
    "[] is a empty list .['he',45] is creating new list as he is first item in the list with index of 0 and 45 is a second element or itm with index of 1."
   ]
  },
  {
   "cell_type": "raw",
   "id": "60e77520",
   "metadata": {},
   "source": [
    "2. In a list of values stored in a variable called spam, how would you assign the value 'hello' as the third value? (Assume [2, 4, 6, 8, 10] are in spam.)"
   ]
  },
  {
   "cell_type": "raw",
   "id": "11cccb98",
   "metadata": {},
   "source": [
    "Given list is spam=[2,4,6,8,10]\n",
    "want to assign the value 'hello' as third value' then\n",
    "spam[3]='hello'"
   ]
  },
  {
   "cell_type": "raw",
   "id": "56bd6527",
   "metadata": {},
   "source": [
    "Let's pretend the spam includes the list ['a', 'b', 'c', 'd'] for the next three queries.\n",
    "\n",
    "3. What is the value of spam[int(int('3' * 2) / 11)]?\n"
   ]
  },
  {
   "cell_type": "raw",
   "id": "7210da5c",
   "metadata": {},
   "source": [
    "spam=['a','b','c','d']\n",
    "spam[int(int('3' * 2) / 11)] based on PEMDAS or BODMAS rule,\n",
    "First execute inside braces so ('3'*2) give error , because of the value inside string so, we do type conversion then int('3'2)gives repeatation of 3 two times. then it looks like 33 again doing type conversion and dividing by 11 result is spam[3].\n",
    "The value of index 3 is 'd'. \n",
    "The answer is 'd'.\n",
    "\n",
    "​"
   ]
  },
  {
   "cell_type": "code",
   "execution_count": null,
   "id": "e2b253d1",
   "metadata": {},
   "outputs": [],
   "source": []
  },
  {
   "cell_type": "code",
   "execution_count": null,
   "id": "76bf2a2b",
   "metadata": {},
   "outputs": [],
   "source": []
  },
  {
   "cell_type": "raw",
   "id": "a0ea5058",
   "metadata": {},
   "source": [
    "4. What is the value of spam[-1]?"
   ]
  },
  {
   "cell_type": "raw",
   "id": "fdedc8a9",
   "metadata": {},
   "source": [
    "The value of spam[-1]is 'd '.\n",
    "Because of from backword direction the index start from -1 and in that place we have 'd'"
   ]
  },
  {
   "cell_type": "raw",
   "id": "8318e786",
   "metadata": {},
   "source": [
    "5. What is the value of spam[:2]?"
   ]
  },
  {
   "cell_type": "raw",
   "id": "2ae11a98",
   "metadata": {},
   "source": [
    "The value of spam[-2]is 'c '.\n",
    "Because of from backword direction the index start from -1 and in in -2 place  we have 'c'"
   ]
  },
  {
   "cell_type": "raw",
   "id": "ed4a78c1",
   "metadata": {},
   "source": [
    "Let's pretend bacon has the list [3.14, 'cat,' 11, 'cat,' True] for the next three questions.\n",
    "\n",
    "6. What is the value of bacon.index('cat')?\t\n"
   ]
  },
  {
   "cell_type": "raw",
   "id": "4cd9c5b8",
   "metadata": {},
   "source": [
    "Given bacon=[3.14,'cat',11,'cat',True]\n",
    "what is the idex value of cat?\n",
    "the index value of the cat is : 1\n",
    "    because of index of list element gives very first occurence of that element in this case it is 1"
   ]
  },
  {
   "cell_type": "raw",
   "id": "60a3867a",
   "metadata": {},
   "source": [
    "7. How does bacon.append(99) change the look of the list value in bacon?"
   ]
  },
  {
   "cell_type": "raw",
   "id": "13f45514",
   "metadata": {},
   "source": [
    "bacon.append(99), \n",
    "append perform append the element at last position of the list ,here append(99)\n",
    "after this condition the result is:[3.14,'cat',11,'cat',True,99]\n",
    "    "
   ]
  },
  {
   "cell_type": "raw",
   "id": "2657e01a",
   "metadata": {},
   "source": [
    "8. How does bacon.remove('cat') change the look of the list in bacon?"
   ]
  },
  {
   "cell_type": "raw",
   "id": "789f2140",
   "metadata": {},
   "source": [
    "bacon=:[3.14,'cat',11,'cat',True,99]\n",
    "If we performing remove operation on baconlist , \n",
    "It removes first occurance of that list \n",
    "remove operation performs directly on element value.\n",
    "after bacon.remove('cat') operation the result is \n",
    "bacon=:[3.14,11,'cat',True,99]"
   ]
  },
  {
   "cell_type": "raw",
   "id": "9bbec37c",
   "metadata": {},
   "source": [
    "9. What are the list concatenation and list replication operators?"
   ]
  },
  {
   "cell_type": "code",
   "execution_count": null,
   "id": "63b5a7d5",
   "metadata": {},
   "outputs": [],
   "source": []
  },
  {
   "cell_type": "raw",
   "id": "0640f15b",
   "metadata": {},
   "source": [
    "10. What is difference between the list methods append() and insert()?"
   ]
  },
  {
   "cell_type": "raw",
   "id": "87042a49",
   "metadata": {},
   "source": [
    "list.append() method is used to append elemets to the last index position using element value.\n",
    "ex: l.append(45)\n",
    "list.insert() method is used to append elements in any index position using index posistion  of list.\n",
    "ex: l.insert(2,'rafi')"
   ]
  },
  {
   "cell_type": "raw",
   "id": "b2991eb4",
   "metadata": {},
   "source": [
    "11. What are the two methods for removing items from a list?"
   ]
  },
  {
   "cell_type": "raw",
   "id": "dbb8542a",
   "metadata": {},
   "source": [
    "the two methods used to remove items from list are remove and pop methods\n",
    "we can remove item in list based on directly giving item value  using remove method.\n",
    "ex:l.remove(45)\n",
    "we can remove item based on index values using pop method.\n",
    "ex:l.pop(2) then it remove 2nd index item. if we donot pass index value then it automatically remove very last index item value.\n",
    "ex: l=[1,2,3,4,5,6]\n",
    "    l.pop()\n",
    "    result:[1, 2, 3, 4, 5]\n",
    "    l.pop(2)\n",
    "    result:[1, 2, 4, 5]"
   ]
  },
  {
   "cell_type": "raw",
   "id": "2afe8bc9",
   "metadata": {},
   "source": [
    "12. Describe how list values and string values are identical"
   ]
  },
  {
   "cell_type": "raw",
   "id": "75d62852",
   "metadata": {},
   "source": [
    "l=[1,2,3,4,5,6]\n",
    "s='mahammad'\n",
    "l[1]==>2\n",
    "s[1]==>a\n",
    "From above example we observe that we can access the items or elements in list by using its index values. as same as string characters also access by using its index values.\n"
   ]
  },
  {
   "cell_type": "raw",
   "id": "3edba4aa",
   "metadata": {},
   "source": [
    "\n",
    "13. What's the difference between tuples and lists?"
   ]
  },
  {
   "cell_type": "raw",
   "id": "c27a1a27",
   "metadata": {},
   "source": [
    "some differences of list and tuples:\n",
    "    1.list data type represent with square brakets.\n",
    "      tuple data type represent with paranthesis.\n",
    "    2. we can modify the  item values of list.list are mutable objects.\n",
    "       we cannot modify item values of tuples .tuples are immutable objects.\n",
    "    3.list have so many in-built methods to perform operations.\n",
    "     tuples have only two  in-built methods to perform operations.\n",
    "        "
   ]
  },
  {
   "cell_type": "raw",
   "id": "ca9fefe9",
   "metadata": {},
   "source": [
    "14. How do you type a tuple value that only contains the integer 42?"
   ]
  },
  {
   "cell_type": "raw",
   "id": "6ae053f5",
   "metadata": {},
   "source": [
    " If we want to create tuple data with only one item ,\n",
    " Then create item inside a list and then converting list into tuple , python it is possible to convert list to tuple and tuple into list data.\n",
    " t=[45]\n",
    " type(t)==> list\n",
    " t=tuple(t)\n",
    " type(t)==>tuple\n",
    " \n",
    " \n",
    "    \n"
   ]
  },
  {
   "cell_type": "raw",
   "id": "6c8ca104",
   "metadata": {},
   "source": [
    "15. How do you get a list value's tuple form? How do you get a tuple value's list form?"
   ]
  },
  {
   "cell_type": "raw",
   "id": "8b41be6b",
   "metadata": {},
   "source": [
    "python it is possible to convert list values into to tuple values  and tuple values into list values.\n",
    "list values into tuple values:\n",
    "ex: l=[1,2,3,4,5]\n",
    "    l=tuple(l)\n",
    "    l ==> (1,2,3,4,5)\n",
    "tuple values into list values:\n",
    "    t=(10,45,78,98,45)\n",
    "    t=list(t)\n",
    "    t==> [10,45,78,98,45]"
   ]
  },
  {
   "cell_type": "raw",
   "id": "b1d780bd",
   "metadata": {},
   "source": [
    "16. Variables that \"contain\" list values are not necessarily lists themselves. Instead, what do they contain?"
   ]
  },
  {
   "cell_type": "raw",
   "id": "6691276f",
   "metadata": {},
   "source": [
    "variables will contain references to list values rather than list values themselves"
   ]
  },
  {
   "cell_type": "raw",
   "id": "1a90e90e",
   "metadata": {},
   "source": []
  },
  {
   "cell_type": "raw",
   "id": "2cc41a0e",
   "metadata": {},
   "source": [
    "17. How do you distinguish between copy.copy() and copy.deepcopy()?"
   ]
  },
  {
   "cell_type": "raw",
   "id": "59411357",
   "metadata": {},
   "source": [
    "copy.copy() creates reference to original object.If we changed copy object the original will changed.\n",
    "copy.deepcopy() creates new object and does real copying of original object to new . it does not effect changing of previous object"
   ]
  },
  {
   "cell_type": "code",
   "execution_count": null,
   "id": "92693667",
   "metadata": {},
   "outputs": [],
   "source": []
  },
  {
   "cell_type": "code",
   "execution_count": null,
   "id": "0574b2e4",
   "metadata": {},
   "outputs": [],
   "source": []
  },
  {
   "cell_type": "code",
   "execution_count": null,
   "id": "cc35b7ee",
   "metadata": {},
   "outputs": [],
   "source": []
  }
 ],
 "metadata": {
  "kernelspec": {
   "display_name": "Python 3 (ipykernel)",
   "language": "python",
   "name": "python3"
  },
  "language_info": {
   "codemirror_mode": {
    "name": "ipython",
    "version": 3
   },
   "file_extension": ".py",
   "mimetype": "text/x-python",
   "name": "python",
   "nbconvert_exporter": "python",
   "pygments_lexer": "ipython3",
   "version": "3.9.7"
  }
 },
 "nbformat": 4,
 "nbformat_minor": 5
}
