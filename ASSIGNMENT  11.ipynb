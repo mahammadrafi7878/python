{
 "cells": [
  {
   "cell_type": "raw",
   "id": "d49de837",
   "metadata": {},
   "source": [
    "1. Create an assert statement that throws an AssertionError if the variable spam is a negative integer."
   ]
  },
  {
   "cell_type": "raw",
   "id": "578930ef",
   "metadata": {},
   "source": [
    "spam = int(input('enter a number:'))\n",
    "assert spam>0\n",
    "    \n"
   ]
  },
  {
   "cell_type": "raw",
   "id": "58a9e658",
   "metadata": {},
   "source": [
    "2. Write an assert statement that triggers an AssertionError if the variables eggs and bacon contain strings that are the same as each other, even if their cases are different (that is, 'hello' and 'hello' are considered the same, and 'goodbye' and 'GOODbye' are also considered the same)."
   ]
  },
  {
   "cell_type": "raw",
   "id": "24e62dca",
   "metadata": {},
   "source": [
    "eggs='hello'\n",
    "bacon='HEllo'\n",
    "assert eggs.lower()!=bacon.lower()\n",
    "# another example \n",
    "eggs='goodbye'\n",
    "bacon=\"GOODbye\"\n",
    "assert eggs.lower()==bacon.lower()"
   ]
  },
  {
   "cell_type": "raw",
   "id": "1b57e303",
   "metadata": {},
   "source": []
  },
  {
   "cell_type": "raw",
   "id": "79caef41",
   "metadata": {},
   "source": [
    "3. Create an assert statement that throws an AssertionError every time"
   ]
  },
  {
   "cell_type": "raw",
   "id": "097b7a56",
   "metadata": {},
   "source": [
    "#statement1\n",
    "a=5\n",
    "b=6 \n",
    "assert a>b\n",
    "#statement2\n",
    "assert False"
   ]
  },
  {
   "cell_type": "raw",
   "id": "625ee22c",
   "metadata": {},
   "source": [
    "4. What are the two lines that must be present in your software in order to call logging.debug()?"
   ]
  },
  {
   "cell_type": "raw",
   "id": "cb68efbf",
   "metadata": {},
   "source": [
    "import logging\n",
    "logging.basicConfig(filename=\"text.p\",level=logging.DEBUG,format='%(levelnames)s%(asctime)')\n",
    "#these two lines must be present in your software"
   ]
  },
  {
   "cell_type": "raw",
   "id": "51f48243",
   "metadata": {},
   "source": [
    "5. What are the two lines that your program must have in order to have logging.debug() send a logging message to a file named programLog.txt?"
   ]
  },
  {
   "cell_type": "markdown",
   "id": "a87203c8",
   "metadata": {},
   "source": [
    "import logging\n",
    "logging.basicConfig(filename=\"programLog.txt\",level=logging.DEBUG,format='%(levelnames)')"
   ]
  },
  {
   "cell_type": "raw",
   "id": "b0331f2e",
   "metadata": {},
   "source": [
    "6. What are the five levels of logging?"
   ]
  },
  {
   "cell_type": "raw",
   "id": "a9442ec3",
   "metadata": {},
   "source": [
    "the five levels of logging have\n",
    "DEBUG-10\n",
    "INFO-20\n",
    "WARENING-30\n",
    "ERROR-40\n",
    "CRITICAL-50"
   ]
  },
  {
   "cell_type": "raw",
   "id": "b6af4159",
   "metadata": {},
   "source": [
    "7. What line of code would you add to your software to disable all logging messages?"
   ]
  },
  {
   "cell_type": "raw",
   "id": "bae98170",
   "metadata": {},
   "source": [
    "logging.disable(logging.CRITICAL)"
   ]
  },
  {
   "cell_type": "raw",
   "id": "77a09675",
   "metadata": {},
   "source": [
    "8.Why is using logging messages better than using print() to display the same message?"
   ]
  },
  {
   "cell_type": "raw",
   "id": "290b7640",
   "metadata": {},
   "source": [
    "We can disable logging messages without the logging function calls.\n",
    "Logging messages are store in file. \n",
    "If we want to go through code understand where are we getting error logging files are more useful. \n",
    "Logging messages provides a time stamp ."
   ]
  },
  {
   "cell_type": "raw",
   "id": "0b9da81f",
   "metadata": {},
   "source": []
  },
  {
   "cell_type": "raw",
   "id": "6ed70dd4",
   "metadata": {},
   "source": [
    "9. What are the differences between the Step Over, Step In, and Step Out buttons in the debugger?\n"
   ]
  },
  {
   "cell_type": "raw",
   "id": "c2160717",
   "metadata": {},
   "source": [
    "Step over is used foe debugging the steps line by line,but when the procedure is called the entire procedure call will be executed as single step.\n",
    "Step out will enable,only after the debugging cursor gets inside procedure.\n",
    "step into is used for debugging the steps line by line."
   ]
  },
  {
   "cell_type": "raw",
   "id": "527f29e7",
   "metadata": {},
   "source": [
    "10.After you click Continue, when will the debugger stop ?"
   ]
  },
  {
   "cell_type": "raw",
   "id": "c07333f6",
   "metadata": {},
   "source": [
    "After click continue , continue execution utill the current function returns.\n",
    "Continue execution only stop when break point is encountered."
   ]
  },
  {
   "cell_type": "raw",
   "id": "a7479037",
   "metadata": {},
   "source": [
    "11. What is the concept of a breakpoint?\n",
    "\n"
   ]
  },
  {
   "cell_type": "raw",
   "id": "c2a05cda",
   "metadata": {},
   "source": [
    "the python breakPoint() built in function is a tool allows developers to set points in in code at which a debugger is called."
   ]
  },
  {
   "cell_type": "code",
   "execution_count": null,
   "id": "e3c9ffa2",
   "metadata": {},
   "outputs": [],
   "source": []
  }
 ],
 "metadata": {
  "kernelspec": {
   "display_name": "Python 3 (ipykernel)",
   "language": "python",
   "name": "python3"
  },
  "language_info": {
   "codemirror_mode": {
    "name": "ipython",
    "version": 3
   },
   "file_extension": ".py",
   "mimetype": "text/x-python",
   "name": "python",
   "nbconvert_exporter": "python",
   "pygments_lexer": "ipython3",
   "version": "3.9.7"
  }
 },
 "nbformat": 4,
 "nbformat_minor": 5
}
