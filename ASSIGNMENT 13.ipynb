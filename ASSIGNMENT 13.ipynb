{
 "cells": [
  {
   "cell_type": "raw",
   "id": "d4006c0f",
   "metadata": {},
   "source": [
    "1. What advantages do Excel spreadsheets have over CSV spreadsheets?"
   ]
  },
  {
   "cell_type": "raw",
   "id": "f1ee698e",
   "metadata": {},
   "source": [
    "A csv file is just a flat text file that uses a delimeter to seperated the fields.\n",
    "In excel you can save the formulas,graphs,pivots ..etc in the file where as in csv files not possible.\n",
    "Excel can read file format and you can use formulas in it, it cannot save formulas it store its result of calculation."
   ]
  },
  {
   "cell_type": "raw",
   "id": "42aa1874",
   "metadata": {},
   "source": [
    "2.What do you pass to csv.reader() and csv.writer() to create reader and writer objects?"
   ]
  },
  {
   "cell_type": "raw",
   "id": "ad1379e0",
   "metadata": {},
   "source": [
    "firstly, csv in writing mode by using open()function,then a csv.writer()function is used to create a writer object.\n",
    "Then write.writerow() function is used to write single rows to csv file.\n",
    "csv in reading mode using by open() function ,then csv.reader() fuction is used to read file which returns an iterable reader object."
   ]
  },
  {
   "cell_type": "raw",
   "id": "1fbdeab8",
   "metadata": {},
   "source": [
    "3. What modes do File objects for reader and writer objects need to be opened in?"
   ]
  },
  {
   "cell_type": "raw",
   "id": "162e8510",
   "metadata": {},
   "source": [
    "In order to open a file for reading or writing purposes, we must use the  Open() built-in function.\n",
    "The open() function contains two arguments ,one is which file name to open secondone is for what purpose reading 'r' or for writing 'w' purpose."
   ]
  },
  {
   "cell_type": "raw",
   "id": "2a2f800e",
   "metadata": {},
   "source": [
    "4. What method takes a list argument and writes it to a CSV file?"
   ]
  },
  {
   "cell_type": "raw",
   "id": "8827a440",
   "metadata": {},
   "source": [
    "writerow() \n",
    "This fuction takes a list ofiterables as a parameter and write each form as a comma seperated line of items in the file."
   ]
  },
  {
   "cell_type": "raw",
   "id": "04451b43",
   "metadata": {},
   "source": [
    "5. What do the keyword arguments delimiter and line terminator do?"
   ]
  },
  {
   "cell_type": "raw",
   "id": "778b2429",
   "metadata": {},
   "source": [
    "DELIMITER: The delimiter is acharacters that appears between cells on row. by default csv has comma as delimiter.\n",
    "LINE TERMINATOR: The line terminator is a character that appears at the end of row.By default the csv has newline as terminator."
   ]
  },
  {
   "cell_type": "raw",
   "id": "39cf0b2e",
   "metadata": {},
   "source": [
    "6. What function takes a string of JSON data and returns a Python data structure?"
   ]
  },
  {
   "cell_type": "raw",
   "id": "e0a42f75",
   "metadata": {},
   "source": [
    "loads()\n",
    "This method returns python data structure of JSON string or data."
   ]
  },
  {
   "cell_type": "raw",
   "id": "a7d0ab26",
   "metadata": {},
   "source": [
    "7. What function takes a Python data structure and returns a string of JSON data?\n",
    "\n"
   ]
  },
  {
   "cell_type": "code",
   "execution_count": null,
   "id": "f57f430a",
   "metadata": {},
   "outputs": [],
   "source": [
    "If we have a python object we can convert it intoJSON objet or data by using below method\n",
    "    json.dumps()   "
   ]
  }
 ],
 "metadata": {
  "kernelspec": {
   "display_name": "Python 3 (ipykernel)",
   "language": "python",
   "name": "python3"
  },
  "language_info": {
   "codemirror_mode": {
    "name": "ipython",
    "version": 3
   },
   "file_extension": ".py",
   "mimetype": "text/x-python",
   "name": "python",
   "nbconvert_exporter": "python",
   "pygments_lexer": "ipython3",
   "version": "3.9.7"
  }
 },
 "nbformat": 4,
 "nbformat_minor": 5
}
