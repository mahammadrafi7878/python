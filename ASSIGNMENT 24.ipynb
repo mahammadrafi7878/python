{
 "cells": [
  {
   "cell_type": "raw",
   "id": "a440b9d2",
   "metadata": {},
   "source": [
    "1. What is the relationship between def statements and lambda expressions ?"
   ]
  },
  {
   "cell_type": "raw",
   "id": "af50eece",
   "metadata": {},
   "source": [
    "def statement and lambda functions both are used to create a functions.\n",
    "In creating function def state has function name and return a value when we call it.\n",
    "Functions without a name is called as annonumous or lambda functions.\n",
    "lambda expression is a key word short cut for declaaring a small anonumous function."
   ]
  },
  {
   "cell_type": "raw",
   "id": "ac98af0f",
   "metadata": {},
   "source": [
    "2. What is the benefit of lambda?"
   ]
  },
  {
   "cell_type": "raw",
   "id": "6358e567",
   "metadata": {},
   "source": [
    "A function with out a name is called as annonumous or lambda function.\n",
    "The main benfit of lambda is if we have small prggram then short cut for declaaring a small anonumous function."
   ]
  },
  {
   "cell_type": "raw",
   "id": "13cf6523",
   "metadata": {},
   "source": [
    "3. Compare and contrast map, filter, and reduce."
   ]
  },
  {
   "cell_type": "raw",
   "id": "78c43d42",
   "metadata": {},
   "source": [
    "MAP: map is a inbuilt key word in python .it is used to perforn function operation on every and each element in the iterable list. map function contain two parameters function and iterable object.\n",
    "       syntax: map(function,iterable) lambda expressions also use\n",
    "FILTER : It is a  inbuilt key word in python it is available in functools library or module .we need to import it ,\n",
    "It is used for aggregation or accumulate operation on given iterable object. it also contain two parameters.\n",
    "        syntax:filter(fuction, iterable) lambda expressions also use\n",
    "Reduce: t is also a python in built function , this is used when reduce the elements or return particular elements which we want in given iterable object. syntax reduce(function,iterable) lambda expressions also use"
   ]
  },
  {
   "cell_type": "raw",
   "id": "5ee81c19",
   "metadata": {},
   "source": [
    "4. What are function annotations, and how are they used?"
   ]
  },
  {
   "cell_type": "raw",
   "id": "23c8b309",
   "metadata": {},
   "source": [
    "Function annotation provide a way of association various parts of a function with arbitary python expression at compile run time.\n",
    "Function annotation are both for parameters and parameters and return values completely optional.\n",
    "The pep3107 makes no attempt to introduce any kind of stand semtics ,even for in built functions.\n"
   ]
  },
  {
   "cell_type": "raw",
   "id": "44ebcf34",
   "metadata": {},
   "source": [
    "5. What are recursive functions, and how are they used?"
   ]
  },
  {
   "cell_type": "raw",
   "id": "aadf7faf",
   "metadata": {},
   "source": [
    "When a function calls it self,that called recursion step.Recursive function can be used to solve tasks in elegant way.\n",
    "The basis of a recursion is function arguments, that makes the task to simple to that function, does not make for other calls."
   ]
  },
  {
   "cell_type": "raw",
   "id": "5e6b1ffd",
   "metadata": {},
   "source": [
    "6. What are some general design guidelines for coding functions?"
   ]
  },
  {
   "cell_type": "raw",
   "id": "448bfe10",
   "metadata": {},
   "source": [
    "Use def key word to create function, after def writing function name and gie parameters inside paranthesis ,nd giving indentation marker at end. If we not give the function not create.\n",
    "In next line use four spaces tabs.\n",
    "two lines between classes and functions.\n",
    "maximum line length is 120 symbols of function creation."
   ]
  },
  {
   "cell_type": "raw",
   "id": "4f497ded",
   "metadata": {},
   "source": [
    "7. Name three or more ways that functions can communicate results to a caller."
   ]
  },
  {
   "cell_type": "raw",
   "id": "a9a01749",
   "metadata": {},
   "source": [
    "The three ways that function can communicate results to a caller : print,return and yield\n",
    "Print returns object datatype.\n",
    "Return will returns any four of them given handler,integer, object and string.\n",
    "yield is used to return value to caller."
   ]
  },
  {
   "cell_type": "code",
   "execution_count": null,
   "id": "b79b498c",
   "metadata": {},
   "outputs": [],
   "source": []
  }
 ],
 "metadata": {
  "kernelspec": {
   "display_name": "Python 3 (ipykernel)",
   "language": "python",
   "name": "python3"
  },
  "language_info": {
   "codemirror_mode": {
    "name": "ipython",
    "version": 3
   },
   "file_extension": ".py",
   "mimetype": "text/x-python",
   "name": "python",
   "nbconvert_exporter": "python",
   "pygments_lexer": "ipython3",
   "version": "3.9.7"
  }
 },
 "nbformat": 4,
 "nbformat_minor": 5
}
