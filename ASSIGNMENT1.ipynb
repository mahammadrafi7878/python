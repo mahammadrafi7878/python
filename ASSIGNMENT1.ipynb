{
 "cells": [
  {
   "cell_type": "raw",
   "id": "bceb734b",
   "metadata": {},
   "source": [
    "1. In the below elements which of them are values or an expression? eg:- values can be integer or string and expressions will be mathematical operators.\n",
    "* \n",
    "'hello'\n",
    "-87.8\n",
    "- \n",
    "/ \n",
    "+\t\n",
    "6 \n"
   ]
  },
  {
   "cell_type": "raw",
   "id": "964e1e8c",
   "metadata": {},
   "source": [
    "We know that values can be integer or string.\n",
    "From above given statement there are three values: 'helo',-87.8 and 6\n",
    "expressions will be mathematical operators.\n",
    "from above given statement there are four expressions:*,-,/ and +"
   ]
  },
  {
   "cell_type": "raw",
   "id": "5a775ce6",
   "metadata": {},
   "source": [
    "2. What is the difference between string and variable?"
   ]
  },
  {
   "cell_type": "raw",
   "id": "5c3454a3",
   "metadata": {},
   "source": [
    "A variable is a kind of entity to store data or information.A variable is any alphabet or group of alphabets which work as temporary storage of location.\n",
    "Ex: a=10 , \n",
    "here assiging 10 value to a variable 'a'.\n",
    "string is nothing but some of characters.string is a reference data type,it is used to represent text type of data.\n",
    "Ex:  'hello', \"hiii\""
   ]
  },
  {
   "cell_type": "raw",
   "id": "021fb814",
   "metadata": {},
   "source": [
    "3.Describe three different data types."
   ]
  },
  {
   "cell_type": "raw",
   "id": "1f083dcf",
   "metadata": {},
   "source": [
    "int:\n",
    "int data type holds whole numbers or signed values.\n",
    "Ex :45,6,20\n",
    "strings:\n",
    "string is group or some of characters ,they re represent inside single or double quotes\n",
    "Ex:'hello', \"good\"\n",
    "List:\n",
    "list is a kind of entity ,we can store multiple different data types in a variable.list data type represented in square brackets.\n",
    "Ex: list=[1,5,2,'sudh',True, 45.25]\n",
    "in list we can perform indexing,slicing operations. we can modify the elements. list is mutable object."
   ]
  },
  {
   "cell_type": "raw",
   "id": "41409bff",
   "metadata": {},
   "source": [
    "4. What is an expression made up of? What do all expressions do?"
   ]
  },
  {
   "cell_type": "raw",
   "id": "5320892d",
   "metadata": {},
   "source": [
    "An expression is a combination of all operands and operators that is interpreted to produce some other value. \n",
    "Basically, operators are special symblos they perform some arthematic or logical computation. \n",
    "The data or information which going to perform arthematic or logical computations are nothing but operands.\n",
    "Expression will do arithematical and logical computations. \n",
    "Ex: a+b, 7*2\n",
    "here a,b,7 and 2 are operands.\n",
    "+,*,-,/  ..etc  are operators."
   ]
  },
  {
   "cell_type": "raw",
   "id": "c327e30e",
   "metadata": {},
   "source": [
    "5. This assignment statements, like spam = 10. What is the difference between an expression and a statement?"
   ]
  },
  {
   "cell_type": "raw",
   "id": "65dd21c6",
   "metadata": {},
   "source": [
    "An expression always evaluates a value based on mathematical or computational operators. \n",
    "A statement does something like creating a variable or displaying avariable. from the given problem \n",
    "spam=10\n",
    "here we are assigning a variable to int data type. this is called as statement."
   ]
  },
  {
   "cell_type": "raw",
   "id": "4c910f2b",
   "metadata": {},
   "source": [
    "6. After running the following code, what does the variable bacon contain?\n",
    "bacon = 22\n",
    "bacon + 1\n"
   ]
  },
  {
   "cell_type": "raw",
   "id": "86ca2766",
   "metadata": {},
   "source": [
    "Here  we are giving a statement or assigning int data type to a variable.\n",
    "bacon=22\n",
    "The int data type temporarily stores into bacon variable. After statement adding 1 to the variable , then the data or information in the variable add by 1 and the result is 23"
   ]
  },
  {
   "cell_type": "raw",
   "id": "a8b3586b",
   "metadata": {},
   "source": [
    "7. What should the values of the following two terms be?\n",
    "'spam' + 'spamspam'\n",
    "'spam' * 3\n"
   ]
  },
  {
   "cell_type": "raw",
   "id": "101611a8",
   "metadata": {},
   "source": [
    "In strings data type  we can do concatinating or adding of two strings. \n",
    "So in problem first expression two strins and + operator so it resulted as 'spamspamspam'. \n",
    "In second expression we have '*' operator it actually repeat data or information by how many times we want, the second expression result is 'spamspamspam'"
   ]
  },
  {
   "cell_type": "raw",
   "id": "fd9728f5",
   "metadata": {},
   "source": [
    "8. Why is eggs a valid variable name while 100 is invalid?"
   ]
  },
  {
   "cell_type": "raw",
   "id": "b92859c9",
   "metadata": {},
   "source": [
    "A variable is a kind of entity that can store data or information. \n",
    "Generally variables are any alphabetic or group of alphabetics and  a variable holds any value. \n",
    "we want to hold any data like int,float other datatypes  to a variable  ,then it perrfoms as assignment operation, \n",
    "So we cannot assign int datatype to another int datatype.\n",
    "Here eggs is group of characters i.e string and 100 is a int datatype."
   ]
  },
  {
   "cell_type": "raw",
   "id": "5834571d",
   "metadata": {},
   "source": [
    "9. What three functions can be used to get the integer, floating-point number, or string version of a value?"
   ]
  },
  {
   "cell_type": "raw",
   "id": "d6cdee27",
   "metadata": {},
   "source": [
    "list,tuple,set  can be used to hold integer,float point number and string version of value."
   ]
  },
  {
   "cell_type": "raw",
   "id": "cd0b19e6",
   "metadata": {},
   "source": [
    "10. Why does this expression cause an error? How can you fix it?\n",
    "'I have eaten ' + 99 + ' burritos.'\n",
    "\n"
   ]
  },
  {
   "cell_type": "raw",
   "id": "3f8c07aa",
   "metadata": {},
   "source": [
    "Yes, we may get error because we cannot concatenate string with another data types.\n",
    "String data type can concatenate with string data type only. \n",
    "In given problem we have int data type.\n",
    "we can do concat by doing type casting , \n",
    "we know that strings are represent inside single or double quotes then \n",
    "'i have eaten'+'99'+'burritos"
   ]
  },
  {
   "cell_type": "code",
   "execution_count": null,
   "id": "6af3aa5a",
   "metadata": {},
   "outputs": [],
   "source": []
  }
 ],
 "metadata": {
  "kernelspec": {
   "display_name": "Python 3 (ipykernel)",
   "language": "python",
   "name": "python3"
  },
  "language_info": {
   "codemirror_mode": {
    "name": "ipython",
    "version": 3
   },
   "file_extension": ".py",
   "mimetype": "text/x-python",
   "name": "python",
   "nbconvert_exporter": "python",
   "pygments_lexer": "ipython3",
   "version": "3.9.7"
  }
 },
 "nbformat": 4,
 "nbformat_minor": 5
}
