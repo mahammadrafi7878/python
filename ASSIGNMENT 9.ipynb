{
 "cells": [
  {
   "cell_type": "raw",
   "id": "ffeb618d",
   "metadata": {},
   "source": [
    "1. To what does a relative path refer?"
   ]
  },
  {
   "cell_type": "raw",
   "id": "b89517df",
   "metadata": {},
   "source": [
    "A relative path refers to a location that is relative to a current directory.\n",
    "A relative path is a way to specify a location of one directory that is relate to another directory.\n",
    "To find relative path \n",
    "path.relpath(), method is useful to find relative path."
   ]
  },
  {
   "cell_type": "raw",
   "id": "fd3d3e0a",
   "metadata": {},
   "source": [
    "2. What does an absolute path start with your operating system?"
   ]
  },
  {
   "cell_type": "raw",
   "id": "20ece51f",
   "metadata": {},
   "source": [
    "An absoute path is known as full path or complete path.\n",
    "An absolute path refers to the complete details needed to locate a file or folder.\n",
    "Starting from the root element and ending with the other subdirectiries"
   ]
  },
  {
   "cell_type": "raw",
   "id": "bfacaf32",
   "metadata": {},
   "source": [
    "3. What do the functions os.getcwd() and os.chdir() do?"
   ]
  },
  {
   "cell_type": "raw",
   "id": "957833d8",
   "metadata": {},
   "source": [
    "os.getcwd : cwd stand Current Working Directory.This function allows to see what is current directry is.\n",
    "os.chdir : chdir stands for CHanging DIRectory .This function allows you to set the current working directoryto a path of choice."
   ]
  },
  {
   "cell_type": "raw",
   "id": "384324ab",
   "metadata": {},
   "source": [
    "4. What are the . and .. folders?"
   ]
  },
  {
   "cell_type": "raw",
   "id": "ccdd9c5e",
   "metadata": {},
   "source": [
    "Relative path makes use of two special symbols dot(.), doble dot(..)\n",
    "Double dot(..) are used for making moving up in the hirarchy. Translate into parent directory.\n",
    "Dot(.) represent current working directory it self. Translate into current directory."
   ]
  },
  {
   "cell_type": "raw",
   "id": "24a78b95",
   "metadata": {},
   "source": [
    "5. In C:\\bacon\\eggs\\spam.txt, which part is the dir name, and which part is the base name?"
   ]
  },
  {
   "cell_type": "raw",
   "id": "c846728a",
   "metadata": {},
   "source": [
    "Base name is known as current folder name.For given  C:\\bacon\\eggs\\spam.txt \n",
    "the base name is 'spam.txt'\n",
    "dir means the details of completed path or directory of folder.Here\n",
    "' C:\\bacon\\eggs' is dirname"
   ]
  },
  {
   "cell_type": "raw",
   "id": "7f30d307",
   "metadata": {},
   "source": [
    "6. What are the three “mode” arguments that can be passed to the open() function?"
   ]
  },
  {
   "cell_type": "raw",
   "id": "fdd3fb62",
   "metadata": {},
   "source": [
    "These three mode argumets can be pased to the open() function.\n",
    "'r' ==> to read a file . \n",
    "'w' ==> to write a file.\n",
    "'a' ==>to append a file."
   ]
  },
  {
   "cell_type": "raw",
   "id": "f80477d4",
   "metadata": {},
   "source": [
    "7. What happens if an existing file is opened in write mode?"
   ]
  },
  {
   "cell_type": "raw",
   "id": "c7ac7bcb",
   "metadata": {},
   "source": [
    "If we open an existing file in write mode ,Then the previously available information in that will arised or deleted."
   ]
  },
  {
   "cell_type": "raw",
   "id": "78c16208",
   "metadata": {},
   "source": [
    "8. How do you tell the difference between read() and readlines()?"
   ]
  },
  {
   "cell_type": "raw",
   "id": "b6e4d25c",
   "metadata": {},
   "source": [
    "read() method is used to read whole file as a string at a time.\n",
    "readlines() method is used to read lines in file as number of strings we want to read at a time."
   ]
  },
  {
   "cell_type": "raw",
   "id": "351fd6aa",
   "metadata": {},
   "source": [
    "9. What data structure does a shelf value resemble?"
   ]
  },
  {
   "cell_type": "raw",
   "id": "60cf5f08",
   "metadata": {},
   "source": [
    "A self value resemble a directory value, it has keys and values along with keys() and values()methods that work similar to the dictionarie methods of same string."
   ]
  }
 ],
 "metadata": {
  "kernelspec": {
   "display_name": "Python 3 (ipykernel)",
   "language": "python",
   "name": "python3"
  },
  "language_info": {
   "codemirror_mode": {
    "name": "ipython",
    "version": 3
   },
   "file_extension": ".py",
   "mimetype": "text/x-python",
   "name": "python",
   "nbconvert_exporter": "python",
   "pygments_lexer": "ipython3",
   "version": "3.9.7"
  }
 },
 "nbformat": 4,
 "nbformat_minor": 5
}
