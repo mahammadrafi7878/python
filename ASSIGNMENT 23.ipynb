{
 "cells": [
  {
   "cell_type": "raw",
   "id": "ae141d10",
   "metadata": {},
   "source": [
    "1. What is the result of the code, and why?\n",
    ">>> def func(a, b=6, c=8):\n",
    "print(a, b, c)\n",
    ">>> func(1, 2)\n"
   ]
  },
  {
   "cell_type": "raw",
   "id": "43c92539",
   "metadata": {},
   "source": [
    "Ouput is (1,2,8), Here give values directly to the parameters b=6,c=8, but when we are calling function we are passing values to function as (1,2) , here passing values takes exact position of function parameters and already have value to function parameter if we are calling arguments then it will over written and takes calling argument"
   ]
  },
  {
   "cell_type": "code",
   "execution_count": null,
   "id": "705852ce",
   "metadata": {},
   "outputs": [],
   "source": []
  },
  {
   "cell_type": "raw",
   "id": "325927cc",
   "metadata": {},
   "source": [
    "2. What is the result of this code, and why?\n",
    ">>> def func(a, b, c=5):\n",
    "print(a, b, c)\n",
    ">>> func(1, c=3, b=2)\n"
   ]
  },
  {
   "cell_type": "raw",
   "id": "adf93570",
   "metadata": {},
   "source": [
    "The result of this code is (1,2,3) ,in function argument we assign value and in function calling arguments directly giving function arguments along with its values. The arguments b,c values will over written"
   ]
  },
  {
   "cell_type": "raw",
   "id": "41d58eb7",
   "metadata": {},
   "source": [
    "3. How about this code: what is its result, and why?\n",
    ">>> def func(a, *pargs):\n",
    "print(a, pargs)\n",
    ">>> func(1, 2, 3)\n"
   ]
  },
  {
   "cell_type": "code",
   "execution_count": null,
   "id": "04c2dbbc",
   "metadata": {},
   "outputs": [],
   "source": []
  },
  {
   "cell_type": "raw",
   "id": "ea73a4e1",
   "metadata": {},
   "source": [
    "From above code the output is like 1,(2,3). * is a symbol and prags is just a name,\n",
    "In some cases we want pass many multiple inpiuts to a function.\n",
    "In that situations we cannot write in fuction arguments ,instead of taht we * symbol. with this we can give n number of arguments.\n",
    "In fuction call we have one parametre and * symbol. function  and function calling arguments take exact and same postions"
   ]
  },
  {
   "cell_type": "raw",
   "id": "2dd58643",
   "metadata": {},
   "source": [
    "4. What does this code print, and why?\n",
    ">>> def func(a, **kargs):\n",
    "print(a, kargs)\n",
    ">>> func(a=1, c=3, b=2)\n"
   ]
  },
  {
   "cell_type": "raw",
   "id": "de5ceb0a",
   "metadata": {},
   "source": [
    "1 {'c': 3, 'b': 2}\n",
    "Take first argument exact position of function argument a=1 reamining are like\n",
    "Here ** is a symbol and kargs ia just a name.\n",
    "In some situations we need to function with function  calling arguments like key, value pairs or dictionary type data inn that situation these are very useful"
   ]
  },
  {
   "cell_type": "raw",
   "id": "de160051",
   "metadata": {},
   "source": [
    "5. What gets printed by this, and explain?\n",
    ">>> def func(a, b, c=8, d=5): print(a, b, c, d)\n",
    ">>> func(1, *(5, 6))\n"
   ]
  },
  {
   "cell_type": "raw",
   "id": "7e5304e2",
   "metadata": {},
   "source": [
    "We get output as 1,5,6,5 in * symbol we can pass n number of arguments.\n",
    "Here it takes exact position of function arguments and calling arguments and repeated sequentially"
   ]
  },
  {
   "cell_type": "raw",
   "id": "be8e3e0c",
   "metadata": {},
   "source": [
    "6. what is the result of this, and explain?\n",
    ">>> def func(a, b, c): a = 2; b[0] = 'x'; c['a'] = 'y'\n",
    ">>> l=1; m=[1]; n={'a':0}\n",
    ">>> func(l, m, n)\n"
   ]
  },
  {
   "cell_type": "raw",
   "id": "f950f092",
   "metadata": {},
   "source": [
    "we dont get anyresult because of we are declaring parameter values inside functionand ,passing some values .\n",
    "It shows noyhing function have local variables and calling with global variabl"
   ]
  },
  {
   "cell_type": "code",
   "execution_count": 5,
   "id": "9d76f9d3",
   "metadata": {},
   "outputs": [],
   "source": []
  },
  {
   "cell_type": "code",
   "execution_count": null,
   "id": "46667aba",
   "metadata": {},
   "outputs": [],
   "source": []
  }
 ],
 "metadata": {
  "kernelspec": {
   "display_name": "Python 3 (ipykernel)",
   "language": "python",
   "name": "python3"
  },
  "language_info": {
   "codemirror_mode": {
    "name": "ipython",
    "version": 3
   },
   "file_extension": ".py",
   "mimetype": "text/x-python",
   "name": "python",
   "nbconvert_exporter": "python",
   "pygments_lexer": "ipython3",
   "version": "3.9.7"
  }
 },
 "nbformat": 4,
 "nbformat_minor": 5
}
