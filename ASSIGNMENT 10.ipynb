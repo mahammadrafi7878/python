{
 "cells": [
  {
   "cell_type": "raw",
   "id": "3467b117",
   "metadata": {},
   "source": [
    "1. How do you distinguish between shutil.copy() and shutil.copytree()?"
   ]
  },
  {
   "cell_type": "raw",
   "id": "39e56ab8",
   "metadata": {},
   "source": [
    "The shutil.copy() function is used to copy a single file.\n",
    "Where as shutil.copytree() function copy an entire folder and every folder and file contained in it."
   ]
  },
  {
   "cell_type": "raw",
   "id": "a541583e",
   "metadata": {},
   "source": [
    "2. What function is used to rename files??"
   ]
  },
  {
   "cell_type": "raw",
   "id": "c18b12a6",
   "metadata": {},
   "source": [
    "os.rename() method in python is used to rename a file or directory.\n",
    "This method renames a source file or directory to specified destination field or directory."
   ]
  },
  {
   "cell_type": "raw",
   "id": "43272e57",
   "metadata": {},
   "source": [
    "3. What is the difference between the delete functions in the send2trash and shutil modules?"
   ]
  },
  {
   "cell_type": "raw",
   "id": "aba6c80e",
   "metadata": {},
   "source": [
    "Using send2trsh ,we can send files to the trash or Recycle bin instead of deleting them.\n",
    "The os modules unlink(),remove() and rmdir() fuction can be used to delete files or folders permanently.these are delete functions."
   ]
  },
  {
   "cell_type": "raw",
   "id": "1ce4047b",
   "metadata": {},
   "source": [
    "4.ZipFile objects have a close() method just like File objects’ close() method. What ZipFile method is equivalent to File objects’ open() method?"
   ]
  },
  {
   "cell_type": "raw",
   "id": "039588af",
   "metadata": {},
   "source": [
    "Zip file have close() method just like files object close() but open() method is different for zipfile from just like files\n",
    " zipfile.Zipfile() function is used to open a zip file.With two arguments one is filename another one is mode of operation."
   ]
  },
  {
   "cell_type": "raw",
   "id": "0f918dc2",
   "metadata": {},
   "source": [
    "5. Create a programme that searches a folder tree for files with a certain file extension (such as .pdf or .jpg). Copy these files from whatever location they are in to a new folder."
   ]
  },
  {
   "cell_type": "raw",
   "id": "b56fc4c4",
   "metadata": {},
   "source": [
    "import os,shutil\n",
    "def selectiveCopy(folder,extensions,destFolder):\n",
    "    folder = os.path.abspath(folder)\n",
    "    destFolder=os.path.abspath(destFolder)\n",
    "    print(\"Looking of\", ' ,'.join(extension))\n",
    "    for foldername, subfolders,filenames in os.walk(folder):\n",
    "        for filename in file names:\n",
    "            name,extensions=os.path.split(filename)\n",
    "            if extensions in extensions:\n",
    "                fileAbsPath=foldername+os.path+filename\n",
    "                print('copying',fileAbsPath,\"to dest folder\")\n",
    "                shutil.copy(fileAbsPath,destFolder)\n",
    "extensions=['.pdf','.jpg']\n",
    "folder = 'randomfolder'\n",
    "destFolder='selectiveFolder'\n",
    "selectivecopy(folder,extensions,destFolder)"
   ]
  }
 ],
 "metadata": {
  "kernelspec": {
   "display_name": "Python 3 (ipykernel)",
   "language": "python",
   "name": "python3"
  },
  "language_info": {
   "codemirror_mode": {
    "name": "ipython",
    "version": 3
   },
   "file_extension": ".py",
   "mimetype": "text/x-python",
   "name": "python",
   "nbconvert_exporter": "python",
   "pygments_lexer": "ipython3",
   "version": "3.9.7"
  }
 },
 "nbformat": 4,
 "nbformat_minor": 5
}
