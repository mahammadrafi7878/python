{
 "cells": [
  {
   "cell_type": "code",
   "execution_count": null,
   "id": "6ac874b3",
   "metadata": {},
   "outputs": [],
   "source": [
    "1. What is the result of the code, and explain?\n",
    "\n",
    "\n",
    ">>> X = 'iNeuron'\n",
    ">>> def func():\n",
    "print(X)\n",
    "\n",
    "\n",
    ">>> func()\n"
   ]
  },
  {
   "cell_type": "raw",
   "id": "8ba0393e",
   "metadata": {},
   "source": [
    "The result of the above code is 'iNeuron' because of ,with in body of function alocal variable takes precedence over than global variable . \n",
    "Here we are searing for x value, we did not declare inside function so there is no local variable then it will go out side print global variable value"
   ]
  },
  {
   "cell_type": "raw",
   "id": "a8894c66",
   "metadata": {},
   "source": [
    "2. What is the result of the code, and explain?\n",
    "\n",
    "\n",
    ">>> X = 'iNeuron'\n",
    ">>> def func():\n",
    "X = 'NI!'\n",
    "\n",
    "\n",
    ">>> func()\n",
    ">>> print(X)\n",
    "\n"
   ]
  },
  {
   "cell_type": "code",
   "execution_count": null,
   "id": "846dc1ed",
   "metadata": {},
   "outputs": [],
   "source": []
  },
  {
   "cell_type": "raw",
   "id": "be44167a",
   "metadata": {},
   "source": [
    "Here also the result of the code is 'iNeuron' ,here we are declare local and global variable with different values. \n",
    "When we calling function there is no print statement so , we cannot see any statement after calling function func.\n",
    "We are assigng a value to x variable, and we are print it using print statement so result is ;iNeuron"
   ]
  },
  {
   "cell_type": "code",
   "execution_count": null,
   "id": "d70746df",
   "metadata": {},
   "outputs": [],
   "source": []
  },
  {
   "cell_type": "raw",
   "id": "8c32a444",
   "metadata": {},
   "source": [
    "3. What does this code print, and why?\n",
    "\n",
    "\n",
    ">>> X = 'iNeuron'\n",
    ">>> def func():\n",
    "X = 'NI'\n",
    "print(X)\n",
    "\n",
    "\n",
    ">>> func()\n",
    ">>> print(X)\n"
   ]
  },
  {
   "cell_type": "raw",
   "id": "1dfdcdaf",
   "metadata": {},
   "source": [
    "In this case the ouput is for calling function func is 'NI' ,because of we are assign value to local variable and global variable LOCAL VARIABLE TAKE PRECEDENCE order so calling a function will return local variable 'NI'\n",
    "we are giving print statement outer side of function , we asssign a value to taht variable globaly so when we are giving prit stament ouput is 'iNeuron"
   ]
  },
  {
   "cell_type": "code",
   "execution_count": null,
   "id": "61bb63e0",
   "metadata": {},
   "outputs": [],
   "source": [
    "\n",
    "4. What output does this code produce? Why?\n",
    "\n",
    "\n",
    ">>> X = 'iNeuron'\n",
    ">>> def func():\n",
    "global X\n",
    "X = 'NI'\n",
    "\n",
    "\n",
    ">>> func()\n",
    ">>> print(X)\n",
    "\n"
   ]
  },
  {
   "cell_type": "raw",
   "id": "bd74cb1b",
   "metadata": {},
   "source": [
    "In this problem the ouput will be 'NI' for calling function func and print statement .\n",
    "we declare a global key word in function, we use global keyword when we want to change the global variable.then python assumes that want a local varible due to change inside of function. "
   ]
  },
  {
   "cell_type": "code",
   "execution_count": null,
   "id": "5f7e087a",
   "metadata": {},
   "outputs": [],
   "source": [
    "\n",
    "5. What about this code—what’s the output, and why?\n",
    "\n",
    "\n",
    ">>> X = 'iNeuron'\n",
    ">>> def func():\n",
    "X = 'NI'\n",
    "def nested():\n",
    "print(X)\n",
    "nested()\n",
    "\n",
    "\n",
    ">>> func()\n",
    ">>> X\n"
   ]
  },
  {
   "cell_type": "raw",
   "id": "cbdbe5f3",
   "metadata": {},
   "source": [
    "INn the above problem statementwe get 'Ineuron' for both calling function func and retriving x value \n",
    "In func function we did not give print statement then it will take global variable hence we are declaring a local variable ,then itwill go to global variable"
   ]
  },
  {
   "cell_type": "code",
   "execution_count": 24,
   "id": "7fd921d7",
   "metadata": {},
   "outputs": [
    {
     "ename": "SyntaxError",
     "evalue": "no binding for nonlocal 'X' found (Temp/ipykernel_6916/1968727827.py, line 3)",
     "output_type": "error",
     "traceback": [
      "\u001b[1;36m  File \u001b[1;32m\"C:\\Users\\WONDER\\AppData\\Local\\Temp/ipykernel_6916/1968727827.py\"\u001b[1;36m, line \u001b[1;32m3\u001b[0m\n\u001b[1;33m    def nested():nonlocal X\u001b[0m\n\u001b[1;37m                 ^\u001b[0m\n\u001b[1;31mSyntaxError\u001b[0m\u001b[1;31m:\u001b[0m no binding for nonlocal 'X' found\n"
     ]
    }
   ],
   "source": [
    "\n",
    "def func():\n",
    "    X = 'NI'\n",
    "def nested():nonlocal X\n",
    "X='Spam'\n",
    "nested()\n",
    "print(X)\n",
    "func()\n"
   ]
  },
  {
   "cell_type": "raw",
   "id": "dc8da3f4",
   "metadata": {},
   "source": [
    "\n",
    "6. How about this code: what is its output in Python 3, and explain?\n",
    "\n",
    "\n",
    ">>> def func():\n",
    "X = 'NI'\n",
    "def nested():\n",
    "nonlocal X\n",
    "X = 'Spam'\n",
    "nested()\n",
    "print(X)\n",
    "\n",
    "\n",
    ">>> func()\n"
   ]
  },
  {
   "cell_type": "raw",
   "id": "16e8b858",
   "metadata": {},
   "source": [
    "here we get output as Spam for print statement.\n",
    "here nonlocal key word is used to work with variables inside nested function , where the variable should not belonging to inner function.\n",
    "nested function is empty variable and we did not give print statement to function func and  print(x) statement will be 'Spam\n"
   ]
  }
 ],
 "metadata": {
  "kernelspec": {
   "display_name": "Python 3 (ipykernel)",
   "language": "python",
   "name": "python3"
  },
  "language_info": {
   "codemirror_mode": {
    "name": "ipython",
    "version": 3
   },
   "file_extension": ".py",
   "mimetype": "text/x-python",
   "name": "python",
   "nbconvert_exporter": "python",
   "pygments_lexer": "ipython3",
   "version": "3.9.7"
  }
 },
 "nbformat": 4,
 "nbformat_minor": 5
}
