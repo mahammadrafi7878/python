{
 "cells": [
  {
   "cell_type": "raw",
   "id": "79aa1864",
   "metadata": {},
   "source": [
    "1. What are escape characters, and how do you use them?"
   ]
  },
  {
   "cell_type": "raw",
   "id": "f40ad246",
   "metadata": {},
   "source": [
    "In python strings the backslash \"\\\" is a special character and also called as escape characters.\n",
    "It is used in representing certain white space characters.\n",
    "ex:\\b,\\t"
   ]
  },
  {
   "cell_type": "raw",
   "id": "a2583e53",
   "metadata": {},
   "source": [
    "2. What do the escape characters n and t stand for?"
   ]
  },
  {
   "cell_type": "raw",
   "id": "462e81a9",
   "metadata": {},
   "source": [
    "the escape characters ,\n",
    "\\n is a new line and \\t is a tb"
   ]
  },
  {
   "cell_type": "raw",
   "id": "54e9d1b7",
   "metadata": {},
   "source": [
    "3. What is the way to include backslash characters in a string?"
   ]
  },
  {
   "cell_type": "raw",
   "id": "e9d7dde9",
   "metadata": {},
   "source": [
    "If we want to include a backslash character it self ,\n",
    "Need for two backslashes Ex: d=\"\\\\hii\"\n",
    "Are using @Verbatim string\n",
    "d='\\@task'\n"
   ]
  },
  {
   "cell_type": "raw",
   "id": "a485d3f6",
   "metadata": {},
   "source": [
    "4. The string \"Howl's Moving Castle\" is a correct value. Why isn't the single quote character in the word Howl's not escaped a problem?"
   ]
  },
  {
   "cell_type": "raw",
   "id": "f683fc67",
   "metadata": {},
   "source": [
    "Because it consider between ('') single quotes are string , the compiler doesnot understad the string after single Quoate ended, Thats why we need to write these type of strings in side double quotes."
   ]
  },
  {
   "cell_type": "raw",
   "id": "d1f1ffde",
   "metadata": {},
   "source": [
    "5. How do you write a string of newlines if you don't want to use the n character?"
   ]
  },
  {
   "cell_type": "raw",
   "id": "7fda4260",
   "metadata": {},
   "source": [
    "6. What are the values of the given expressions?\n",
    "'Hello, world!'[1]\n",
    "'Hello, world!'[0:5]\n",
    "'Hello, world!'[:5]\n",
    "'Hello, world!'[3:]\n"
   ]
  },
  {
   "cell_type": "raw",
   "id": "4ef0f7ac",
   "metadata": {},
   "source": [
    "1.'Hello, world!'[1] ==>performing indexing operation, gives value of first index ans:'e'\n",
    "2.'Hello, world!'[0:5] ==> performing slicing operation gives values from lower bound 0 upto index 4 i.e excluding upper bound(5)ans:'Hello'\n",
    "3.'Hello, world!'[:5]==> perforning slicing operation lower bou nd is no given it automatically takes from zeroth index upto excluding upper bound ans:'Hello'\n",
    "4.'Hello, world!'[3:] ==> performing slicing opearation here lower bound is given 3rd index upper bound is not given it automatically takes upto end of string. ans: 'lo, world!'"
   ]
  },
  {
   "cell_type": "raw",
   "id": "6041ca1d",
   "metadata": {},
   "source": [
    "7. What are the values of the following expressions?\n",
    "'Hello'.upper()\n",
    "'Hello'.upper().isupper()\n",
    "'Hello'.upper().lower()\n"
   ]
  },
  {
   "cell_type": "raw",
   "id": "56ad8398",
   "metadata": {},
   "source": [
    "1.'Hello'.upper() ==> in this operation we performing upper() method , so every char in string goes to uppercase. ans:'HELLO'\n",
    "2.'Hello'.upper().isupper() ==> in this condition perfomingupper method , and checking all char in string is uppercase or not. ans:True\n",
    "3.'Hello'.upper().lower()  ==> in this condition we firstly performing uppercasae() method all char in string goes to upper and performing lower() method then all chars in string goes to lowercase. "
   ]
  },
  {
   "cell_type": "raw",
   "id": "11342315",
   "metadata": {},
   "source": [
    "# 8. What are the values of the following expressions?\n",
    "'Remember, remember, the fifth of July.'.split()\n",
    "'-'.join('There can only one.'.split())\n"
   ]
  },
  {
   "cell_type": "raw",
   "id": "fe495a4f",
   "metadata": {},
   "source": [
    "1. in first operation weare performing split() method, then split the string based on spaces and the result is:['Remember,', 'remember,', 'the', 'fifth', 'of', 'July.']\n",
    "2. in second operation it go firstly  split method  method basd on spaces the result:  ['There', 'can', 'only', 'one.'] ,then it goes to join operation based on special char '-' the result :'There-can-only-one.'\n",
    "​"
   ]
  },
  {
   "cell_type": "raw",
   "id": "7abef2e7",
   "metadata": {},
   "source": [
    "9. What are the methods for right-justifying, left-justifying, and centering a string?"
   ]
  },
  {
   "cell_type": "raw",
   "id": "935bc8e9",
   "metadata": {},
   "source": [
    "there is inbuilt methods in strings strip, right-strip and left-strip. thsese will satisfy right-justifying left justifying.\n",
    "Ex : s='     hii    '\n",
    "right strip = l.rstrip(s)\n",
    "left strip=l.lstrip(s)\n",
    "Center is a inbuilt key word for centering someting iside we declare range of indexes.\n",
    "Ex: s='rafi'\n",
    "    s.center(100,'%')\n",
    "   Here two parameters are no of length of indexes we want and center of indexe fill with string and remain are with second special parameter"
   ]
  },
  {
   "cell_type": "raw",
   "id": "38f7bd13",
   "metadata": {},
   "source": [
    "10. What is the best way to remove whitespace characters from the start or end?"
   ]
  },
  {
   "cell_type": "code",
   "execution_count": 12,
   "id": "adcb3af0",
   "metadata": {},
   "outputs": [
    {
     "data": {
      "text/plain": [
       "'There-can-only-one.'"
      ]
     },
     "execution_count": 12,
     "metadata": {},
     "output_type": "execute_result"
    }
   ],
   "source": [
    "'-'.join('There can only one.'.split())\n"
   ]
  },
  {
   "cell_type": "code",
   "execution_count": 13,
   "id": "519b2e42",
   "metadata": {},
   "outputs": [
    {
     "data": {
      "text/plain": [
       "['There', 'can', 'only', 'one.']"
      ]
     },
     "execution_count": 13,
     "metadata": {},
     "output_type": "execute_result"
    }
   ],
   "source": [
    "'There can only one.'.split()"
   ]
  },
  {
   "cell_type": "code",
   "execution_count": null,
   "id": "31097df3",
   "metadata": {},
   "outputs": [],
   "source": []
  }
 ],
 "metadata": {
  "kernelspec": {
   "display_name": "Python 3 (ipykernel)",
   "language": "python",
   "name": "python3"
  },
  "language_info": {
   "codemirror_mode": {
    "name": "ipython",
    "version": 3
   },
   "file_extension": ".py",
   "mimetype": "text/x-python",
   "name": "python",
   "nbconvert_exporter": "python",
   "pygments_lexer": "ipython3",
   "version": "3.9.7"
  }
 },
 "nbformat": 4,
 "nbformat_minor": 5
}
