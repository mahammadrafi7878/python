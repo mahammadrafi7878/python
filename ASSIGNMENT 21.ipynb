{
 "cells": [
  {
   "cell_type": "raw",
   "id": "54250cdc",
   "metadata": {},
   "source": [
    "1. Add the current date to the text file today.txt as a string.\n"
   ]
  },
  {
   "cell_type": "code",
   "execution_count": 1,
   "id": "d777b9d8",
   "metadata": {},
   "outputs": [],
   "source": [
    "import datetime\n",
    "file=open('today.txt','w')\n",
    "file.write(str(datetime.datetime.today()))\n",
    "file.close()"
   ]
  },
  {
   "cell_type": "raw",
   "id": "b7eff557",
   "metadata": {},
   "source": [
    "2. Read the text file today.txt into the string today_string"
   ]
  },
  {
   "cell_type": "code",
   "execution_count": 2,
   "id": "0aa477a7",
   "metadata": {},
   "outputs": [
    {
     "data": {
      "text/plain": [
       "'2022-08-31 23:03:37.822171'"
      ]
     },
     "execution_count": 2,
     "metadata": {},
     "output_type": "execute_result"
    }
   ],
   "source": [
    "file=open('today.txt','r')\n",
    "file.read()"
   ]
  },
  {
   "cell_type": "raw",
   "id": "fd22f22c",
   "metadata": {},
   "source": [
    "3. Parse the date from today_string."
   ]
  },
  {
   "cell_type": "code",
   "execution_count": 3,
   "id": "62247af3",
   "metadata": {},
   "outputs": [
    {
     "name": "stdout",
     "output_type": "stream",
     "text": [
      "2022-08-31 23:03:38.176876\n",
      "2022-08-31 23:03:38.176876\n"
     ]
    }
   ],
   "source": [
    "import datetime\n",
    "file=open('today.txt','w')\n",
    "today_string=str(datetime.datetime.today())\n",
    "file.write(today_string)\n",
    "print(today_string)\n",
    "date_obj=datetime.datetime.strptime(today_string,'%Y-%m-%d %H:%M:%S.%f')\n",
    "print(date_obj)\n",
    "\n"
   ]
  },
  {
   "cell_type": "raw",
   "id": "9a8131d9",
   "metadata": {},
   "source": [
    "4. List the files in your current directory"
   ]
  },
  {
   "cell_type": "code",
   "execution_count": 4,
   "id": "e6c704ac",
   "metadata": {},
   "outputs": [
    {
     "name": "stdout",
     "output_type": "stream",
     "text": [
      ".condarc\n",
      ".gitconfig\n",
      "18.1.1 data visualization Introduction-checkpoint.ipynb\n",
      "18.1.2 matplotlib boxplot-checkpoint.ipynb\n",
      "18.1.3 matplotlib area and scatter plot-checkpoint.ipynb\n",
      "18.1.4 matplotlib pi plot-checkpoint.ipynb\n",
      "18.1.5 matplotlib 3D plot-checkpoint.ipynb\n",
      "18.1.6 matplotlib styling-checkpoint.ipynb\n",
      "18.2.1 seaborn visualization -checkpoint.ipynb\n",
      "18.2.1 seaborn visualization .ipynb\n",
      "18.2.2 seaborn Numerical data plot-checkpoint.ipynb\n",
      "18.2.3 seaborn categorical data plot -checkpoint.ipynb\n",
      "18.2.4 seaborn distribution data plot-checkpoint.ipynb\n",
      "18.2.5 seaborn regression plot-checkpoint.ipynb\n",
      "18.2.6 seaborn styling-checkpoint.ipynb\n",
      "18.3.Plotly-checkpoint.ipynb\n",
      "18.3.Plotly.ipynb\n",
      "18.4.Cufflinks-checkpoint.ipynb\n",
      "22-08-2022 after noon practice.ipynb\n",
      "22-08-2022 practice morning.ipynb\n",
      "23-08-2022 morning practice.ipynb\n",
      "23-08-2022afternoon practice.ipynb\n",
      "24-03-2022 after noon practice.ipynb\n",
      "24-08-2022 morning practice.ipynb\n",
      "25-08-2022 after noon practice.ipynb\n",
      "25-08-2022 practice morning.ipynb\n",
      "26-08-2022 afternoon practice.ipynb\n",
      "26-08-22 morning practice.ipynb\n",
      "27-08-2022 after noon practice.ipynb\n",
      "31082022 afternoon.ipynb\n",
      "ASSIGNMENT  11.ipynb\n",
      "ASSIGNMENT 10.ipynb\n",
      "ASSIGNMENT 12.ipynb\n",
      "ASSIGNMENT 13.ipynb\n",
      "ASSIGNMENT 14.ipynb\n",
      "ASSIGNMENT 15.ipynb\n",
      "ASSIGNMENT 16.ipynb\n",
      "ASSIGNMENT 17.ipynb\n",
      "ASSIGNMENT 19.ipynb\n",
      "ASSIGNMENT 2.ipynb\n",
      "ASSIGNMENT 20.ipynb\n",
      "ASSIGNMENT 21.ipynb\n",
      "ASSIGNMENT 3.ipynb\n",
      "ASSIGNMENT 4.ipynb\n",
      "ASSIGNMENT 5.ipynb\n",
      "ASSIGNMENT 6.ipynb\n",
      "ASSIGNMENT 7.ipynb\n",
      "ASSIGNMENT 8.ipynb\n",
      "ASSIGNMENT 9.ipynb\n",
      "assignment-1-Copy1.ipynb\n",
      "assignment-1.ipynb\n",
      "assignment-2.ipynb\n",
      "ASSIGNMENT1.ipynb\n",
      "assignment3.ipynb\n",
      "Attribute DataSet.xlsx\n",
      "attributes.json\n",
      "attributes1.csv\n",
      "books.csv\n",
      "books.db\n",
      "condition statements if elif else.ipynb\n",
      "DRESS SALES.csv\n",
      "edited assignment 1.ipynb\n",
      "exception handling.ipynb\n",
      "files.txt\n",
      "for loo2.ipynb\n",
      "for loop.ipynb\n",
      "functions 2.ipynb\n",
      "functions task.ipynb\n",
      "graph.7z\n",
      "graph.ipynb\n",
      "image.jpg\n",
      "iterator, generator, file operations, map,reduce,filter functions.ipynb\n",
      "list prog2.ipynb\n",
      "list program1.ipynb\n",
      "list program3.ipynb\n",
      "list programs 2.ipynb\n",
      "list, tuple, dict, set.ipynb\n",
      "mat practice.ipynb\n",
      "NTUSER.DAT\n",
      "ntuser.dat.LOG1\n",
      "ntuser.dat.LOG2\n",
      "NTUSER.DAT{e7269c70-f106-11eb-a65c-981fe8027f22}.TM.blf\n",
      "NTUSER.DAT{e7269c70-f106-11eb-a65c-981fe8027f22}.TMContainer00000000000000000001.regtrans-ms\n",
      "NTUSER.DAT{e7269c70-f106-11eb-a65c-981fe8027f22}.TMContainer00000000000000000002.regtrans-ms\n",
      "ntuser.ini\n",
      "numpy and cufflicks intro.ipynb\n",
      "panda class 3.ipynb\n",
      "pandas 1 practise.ipynb\n",
      "pandas basic1.ipynb\n",
      "pandas basic2.ipynb\n",
      "pandas basics practice 31-08-2022.ipynb\n",
      "practice 29082022 morning .ipynb\n",
      "previous class matplotlib.ipynb\n",
      "python basic string class 2.ipynb\n",
      "python class1.ipynb\n",
      "rafi.txt\n",
      "rafi1.txt\n",
      "regex and pyinputpy.ipynb\n",
      "scikit_learn-0.24.2-cp39-cp39-win_amd64.whl\n",
      "session 9.1 seaborn visualization -checkpoint.ipynb\n",
      "string programs 1.ipynb\n",
      "string progrms 2.ipynb\n",
      "task1 to 4.ipynb\n",
      "test.txt\n",
      "test1.log\n",
      "text.p\n",
      "today.txt\n",
      "Untitled.ipynb\n",
      "Untitled1.ipynb\n",
      "Untitled10.ipynb\n",
      "Untitled11.ipynb\n",
      "Untitled12.ipynb\n",
      "Untitled13.ipynb\n",
      "Untitled14.ipynb\n",
      "Untitled15.ipynb\n",
      "Untitled16.ipynb\n",
      "Untitled17.ipynb\n",
      "Untitled18.ipynb\n",
      "Untitled19.ipynb\n",
      "Untitled2.ipynb\n",
      "Untitled20.ipynb\n",
      "Untitled21.ipynb\n",
      "Untitled22.ipynb\n",
      "Untitled23.ipynb\n",
      "Untitled24.ipynb\n",
      "Untitled3.ipynb\n",
      "Untitled4.ipynb\n",
      "Untitled5.ipynb\n",
      "Untitled6.ipynb\n",
      "Untitled7.ipynb\n",
      "Untitled8.ipynb\n",
      "Untitled9.ipynb\n",
      "while loop and basic of function.ipynb\n"
     ]
    }
   ],
   "source": [
    "import os\n",
    "files=[f for f in os.listdir('.') if os.path.isfile(f)]\n",
    "for f in files:\n",
    "    print(f)"
   ]
  },
  {
   "cell_type": "raw",
   "id": "abb16e0c",
   "metadata": {},
   "source": [
    "5. Create a list of all of the files in your parent directory (minimum five files should be available)."
   ]
  },
  {
   "cell_type": "code",
   "execution_count": 5,
   "id": "1b8f5c67",
   "metadata": {},
   "outputs": [
    {
     "data": {
      "text/plain": [
       "['CCleaner',\n",
       " 'Common Files',\n",
       " 'desktop.ini',\n",
       " 'Intel',\n",
       " 'Internet Explorer',\n",
       " 'JetBrains',\n",
       " 'Microsoft Office',\n",
       " 'Microsoft Update Health Tools',\n",
       " 'ModifiableWindowsApps',\n",
       " 'Mozilla Firefox',\n",
       " 'MSBuild',\n",
       " 'MySQL',\n",
       " 'PCHealthCheck',\n",
       " 'Realtek',\n",
       " 'Reference Assemblies',\n",
       " 'ruxim',\n",
       " 'Synaptics',\n",
       " 'Uninstall Information',\n",
       " 'UNP',\n",
       " 'VideoLAN',\n",
       " 'WinArchiver',\n",
       " 'Windows Defender',\n",
       " 'Windows Mail',\n",
       " 'Windows Media Player',\n",
       " 'Windows Multimedia Platform',\n",
       " 'Windows NT',\n",
       " 'Windows Photo Viewer',\n",
       " 'Windows Portable Devices',\n",
       " 'Windows Security',\n",
       " 'Windows Sidebar',\n",
       " 'WindowsApps',\n",
       " 'WindowsPowerShell',\n",
       " 'WinRAR']"
      ]
     },
     "execution_count": 5,
     "metadata": {},
     "output_type": "execute_result"
    }
   ],
   "source": [
    "os.listdir('C:\\Program Files')"
   ]
  },
  {
   "cell_type": "raw",
   "id": "0c6e7ec3",
   "metadata": {},
   "source": [
    "6. Use multiprocessing to create three separate processes. Make each one wait a random number of seconds between one and five, print the current time, and then exit."
   ]
  },
  {
   "cell_type": "code",
   "execution_count": 6,
   "id": "9663e0fa",
   "metadata": {},
   "outputs": [],
   "source": [
    "from multiprocessing import Process\n",
    "import datetime\n",
    "import time\n",
    "def first():\n",
    "    print(\"current time of first one is: \",datetime.datetime.now())\n",
    "    time.sleep(5)\n",
    "def second():\n",
    "    print(\"current time of second one is: \",datetime.datetime.now())\n",
    "    time.sleep(4)\n",
    "def third():\n",
    "    print(\"current time of third one is: \",datetime.datetime.now())\n",
    "    time.sleep(3)\n",
    "    print(\" exit\")\n",
    "if __name__ == \"__main__\":\n",
    "    p=Process(target=first)\n",
    "    p1=Process(target=second)\n",
    "    p2=Process(target=third)\n",
    "    p.start()\n",
    "    p1.start()\n",
    "    p2.start()\n",
    "    p.join()\n",
    "    p1.join()\n",
    "    p2.join()\n",
    "#for same code i get result in py charm"
   ]
  },
  {
   "cell_type": "code",
   "execution_count": 7,
   "id": "e9adffce",
   "metadata": {},
   "outputs": [
    {
     "name": "stdout",
     "output_type": "stream",
     "text": [
      "Collecting multiprocessingNote: you may need to restart the kernel to use updated packages.\n"
     ]
    },
    {
     "name": "stderr",
     "output_type": "stream",
     "text": [
      "    ERROR: Command errored out with exit status 1:\n",
      "     command: 'C:\\Users\\WONDER\\anaconda3\\python.exe' -c 'import io, os, sys, setuptools, tokenize; sys.argv[0] = '\"'\"'C:\\\\Users\\\\WONDER\\\\AppData\\\\Local\\\\Temp\\\\pip-install-pjn95038\\\\multiprocessing_72247503b81b4d1e92d6d3804a736a76\\\\setup.py'\"'\"'; __file__='\"'\"'C:\\\\Users\\\\WONDER\\\\AppData\\\\Local\\\\Temp\\\\pip-install-pjn95038\\\\multiprocessing_72247503b81b4d1e92d6d3804a736a76\\\\setup.py'\"'\"';f = getattr(tokenize, '\"'\"'open'\"'\"', open)(__file__) if os.path.exists(__file__) else io.StringIO('\"'\"'from setuptools import setup; setup()'\"'\"');code = f.read().replace('\"'\"'\\r\\n'\"'\"', '\"'\"'\\n'\"'\"');f.close();exec(compile(code, __file__, '\"'\"'exec'\"'\"'))' egg_info --egg-base 'C:\\Users\\WONDER\\AppData\\Local\\Temp\\pip-pip-egg-info-tb50u886'\n",
      "         cwd: C:\\Users\\WONDER\\AppData\\Local\\Temp\\pip-install-pjn95038\\multiprocessing_72247503b81b4d1e92d6d3804a736a76\\\n",
      "    Complete output (6 lines):\n",
      "    Traceback (most recent call last):\n",
      "      File \"<string>\", line 1, in <module>\n",
      "      File \"C:\\Users\\WONDER\\AppData\\Local\\Temp\\pip-install-pjn95038\\multiprocessing_72247503b81b4d1e92d6d3804a736a76\\setup.py\", line 94\n",
      "        print 'Macros:'\n",
      "              ^\n",
      "    SyntaxError: Missing parentheses in call to 'print'. Did you mean print('Macros:')?\n",
      "    ----------------------------------------\n",
      "WARNING: Discarding https://files.pythonhosted.org/packages/b8/8a/38187040f36cec8f98968502992dca9b00cc5e88553e01884ba29cbe6aac/multiprocessing-2.6.2.1.tar.gz#sha256=ef3b81ad85d7de252e5491b1daac028e17f9741cbe3625032e6eaa4ad4c79900 (from https://pypi.org/simple/multiprocessing/). Command errored out with exit status 1: python setup.py egg_info Check the logs for full command output.\n",
      "    ERROR: Command errored out with exit status 1:\n"
     ]
    },
    {
     "name": "stdout",
     "output_type": "stream",
     "text": [
      "\n",
      "  Using cached multiprocessing-2.6.2.1.tar.gz (108 kB)\n",
      "  Using cached multiprocessing-2.6.1.1.zip (129 kB)\n",
      "  Using cached multiprocessing-2.6.1.1.tar.gz (106 kB)\n",
      "  Using cached multiprocessing-2.6.0.2.tar.gz (103 kB)\n"
     ]
    },
    {
     "name": "stderr",
     "output_type": "stream",
     "text": [
      "     command: 'C:\\Users\\WONDER\\anaconda3\\python.exe' -c 'import io, os, sys, setuptools, tokenize; sys.argv[0] = '\"'\"'C:\\\\Users\\\\WONDER\\\\AppData\\\\Local\\\\Temp\\\\pip-install-pjn95038\\\\multiprocessing_cbe29f850a734e17a73fa1680dc1cc08\\\\setup.py'\"'\"'; __file__='\"'\"'C:\\\\Users\\\\WONDER\\\\AppData\\\\Local\\\\Temp\\\\pip-install-pjn95038\\\\multiprocessing_cbe29f850a734e17a73fa1680dc1cc08\\\\setup.py'\"'\"';f = getattr(tokenize, '\"'\"'open'\"'\"', open)(__file__) if os.path.exists(__file__) else io.StringIO('\"'\"'from setuptools import setup; setup()'\"'\"');code = f.read().replace('\"'\"'\\r\\n'\"'\"', '\"'\"'\\n'\"'\"');f.close();exec(compile(code, __file__, '\"'\"'exec'\"'\"'))' egg_info --egg-base 'C:\\Users\\WONDER\\AppData\\Local\\Temp\\pip-pip-egg-info-jhegizw0'\n",
      "         cwd: C:\\Users\\WONDER\\AppData\\Local\\Temp\\pip-install-pjn95038\\multiprocessing_cbe29f850a734e17a73fa1680dc1cc08\\\n",
      "    Complete output (6 lines):\n",
      "    Traceback (most recent call last):\n",
      "      File \"<string>\", line 1, in <module>\n",
      "      File \"C:\\Users\\WONDER\\AppData\\Local\\Temp\\pip-install-pjn95038\\multiprocessing_cbe29f850a734e17a73fa1680dc1cc08\\setup.py\", line 94\n",
      "        print 'Macros:'\n",
      "              ^\n",
      "    SyntaxError: Missing parentheses in call to 'print'. Did you mean print('Macros:')?\n",
      "    ----------------------------------------\n",
      "WARNING: Discarding https://files.pythonhosted.org/packages/98/7f/4967a994241802fcbb37204e424bd34fc4b239372dcea2f48cd2ffb0859f/multiprocessing-2.6.1.1.zip#sha256=c2f4b019ffcb72ea1a58c940f4500fba388d0a00d2b51bafc8fb11df5b85519c (from https://pypi.org/simple/multiprocessing/). Command errored out with exit status 1: python setup.py egg_info Check the logs for full command output.\n",
      "    ERROR: Command errored out with exit status 1:\n",
      "     command: 'C:\\Users\\WONDER\\anaconda3\\python.exe' -c 'import io, os, sys, setuptools, tokenize; sys.argv[0] = '\"'\"'C:\\\\Users\\\\WONDER\\\\AppData\\\\Local\\\\Temp\\\\pip-install-pjn95038\\\\multiprocessing_d7afd742f2aa4f1babcab177e0d7c97c\\\\setup.py'\"'\"'; __file__='\"'\"'C:\\\\Users\\\\WONDER\\\\AppData\\\\Local\\\\Temp\\\\pip-install-pjn95038\\\\multiprocessing_d7afd742f2aa4f1babcab177e0d7c97c\\\\setup.py'\"'\"';f = getattr(tokenize, '\"'\"'open'\"'\"', open)(__file__) if os.path.exists(__file__) else io.StringIO('\"'\"'from setuptools import setup; setup()'\"'\"');code = f.read().replace('\"'\"'\\r\\n'\"'\"', '\"'\"'\\n'\"'\"');f.close();exec(compile(code, __file__, '\"'\"'exec'\"'\"'))' egg_info --egg-base 'C:\\Users\\WONDER\\AppData\\Local\\Temp\\pip-pip-egg-info-4hxgeopw'\n",
      "         cwd: C:\\Users\\WONDER\\AppData\\Local\\Temp\\pip-install-pjn95038\\multiprocessing_d7afd742f2aa4f1babcab177e0d7c97c\\\n",
      "    Complete output (6 lines):\n",
      "    Traceback (most recent call last):\n",
      "      File \"<string>\", line 1, in <module>\n",
      "      File \"C:\\Users\\WONDER\\AppData\\Local\\Temp\\pip-install-pjn95038\\multiprocessing_d7afd742f2aa4f1babcab177e0d7c97c\\setup.py\", line 94\n",
      "        print 'Macros:'\n",
      "              ^\n",
      "    SyntaxError: Missing parentheses in call to 'print'. Did you mean print('Macros:')?\n",
      "    ----------------------------------------\n",
      "WARNING: Discarding https://files.pythonhosted.org/packages/68/08/b7c8b11f1265263e8bb525f0cd3c6747802bea087aac54469f0bef286524/multiprocessing-2.6.1.1.tar.gz#sha256=ad576359eda273ddbbbc0df9678df6ba653dee06dfe97839190826ec3f70c5ab (from https://pypi.org/simple/multiprocessing/). Command errored out with exit status 1: python setup.py egg_info Check the logs for full command output.\n",
      "    ERROR: Command errored out with exit status 1:\n",
      "     command: 'C:\\Users\\WONDER\\anaconda3\\python.exe' -c 'import io, os, sys, setuptools, tokenize; sys.argv[0] = '\"'\"'C:\\\\Users\\\\WONDER\\\\AppData\\\\Local\\\\Temp\\\\pip-install-pjn95038\\\\multiprocessing_c6c063f63cb7467c91e2ec713745f3e0\\\\setup.py'\"'\"'; __file__='\"'\"'C:\\\\Users\\\\WONDER\\\\AppData\\\\Local\\\\Temp\\\\pip-install-pjn95038\\\\multiprocessing_c6c063f63cb7467c91e2ec713745f3e0\\\\setup.py'\"'\"';f = getattr(tokenize, '\"'\"'open'\"'\"', open)(__file__) if os.path.exists(__file__) else io.StringIO('\"'\"'from setuptools import setup; setup()'\"'\"');code = f.read().replace('\"'\"'\\r\\n'\"'\"', '\"'\"'\\n'\"'\"');f.close();exec(compile(code, __file__, '\"'\"'exec'\"'\"'))' egg_info --egg-base 'C:\\Users\\WONDER\\AppData\\Local\\Temp\\pip-pip-egg-info-izq0vgmr'\n",
      "         cwd: C:\\Users\\WONDER\\AppData\\Local\\Temp\\pip-install-pjn95038\\multiprocessing_c6c063f63cb7467c91e2ec713745f3e0\\\n",
      "    Complete output (6 lines):\n",
      "    Traceback (most recent call last):\n",
      "      File \"<string>\", line 1, in <module>\n",
      "      File \"C:\\Users\\WONDER\\AppData\\Local\\Temp\\pip-install-pjn95038\\multiprocessing_c6c063f63cb7467c91e2ec713745f3e0\\setup.py\", line 79\n",
      "        print 'Macros:'\n",
      "              ^\n",
      "    SyntaxError: Missing parentheses in call to 'print'. Did you mean print('Macros:')?\n",
      "    ----------------------------------------\n",
      "WARNING: Discarding https://files.pythonhosted.org/packages/71/63/591f4ae9ed88570b04b39d1fbd523a2bd88a1a38685927ff25df9af1b379/multiprocessing-2.6.0.2.tar.gz#sha256=461a1998428ac4335cc4141223e362295e1032a689faf04acd3375eea8c0b6bd (from https://pypi.org/simple/multiprocessing/). Command errored out with exit status 1: python setup.py egg_info Check the logs for full command output.\n",
      "ERROR: Could not find a version that satisfies the requirement multiprocessing (from versions: 2.6.0-0.1, 2.6.0.2, 2.6.1.1, 2.6.2.1)\n",
      "ERROR: No matching distribution found for multiprocessing\n"
     ]
    }
   ],
   "source": [
    "pip install multiprocessing"
   ]
  },
  {
   "cell_type": "raw",
   "id": "20fb26d2",
   "metadata": {},
   "source": [
    "7. Create a date object of your day of birth."
   ]
  },
  {
   "cell_type": "code",
   "execution_count": 8,
   "id": "cc79b78b",
   "metadata": {},
   "outputs": [
    {
     "data": {
      "text/plain": [
       "str"
      ]
     },
     "execution_count": 8,
     "metadata": {},
     "output_type": "execute_result"
    }
   ],
   "source": [
    "day_of_birth='25-07-1997'\n",
    "day_of_birth\n",
    "type(day_of_birth)"
   ]
  },
  {
   "cell_type": "raw",
   "id": "d2d0d7e8",
   "metadata": {},
   "source": [
    "8. What day of the week was your day of birth?"
   ]
  },
  {
   "cell_type": "code",
   "execution_count": 11,
   "id": "4787b7b5",
   "metadata": {},
   "outputs": [
    {
     "name": "stdout",
     "output_type": "stream",
     "text": [
      "Friday\n"
     ]
    }
   ],
   "source": [
    "import datetime \n",
    "import calendar\n",
    "def find_day(date):\n",
    "    born=datetime.datetime.strptime(date, '%d-%m-%Y').weekday()\n",
    "    return calendar.day_name[born]\n",
    "date=day_of_birth\n",
    "print(find_day(date))\n"
   ]
  },
  {
   "cell_type": "raw",
   "id": "b2212336",
   "metadata": {},
   "source": [
    "9. When will you be (or when were you) 10,000 days old?"
   ]
  },
  {
   "cell_type": "code",
   "execution_count": 31,
   "id": "a18ed527",
   "metadata": {},
   "outputs": [
    {
     "name": "stdout",
     "output_type": "stream",
     "text": [
      "28\n"
     ]
    }
   ],
   "source": [
    "years=range(1995,2050)\n",
    "lst_days=[]\n",
    "count=0\n",
    "tot_days=0\n",
    "for year in years:\n",
    "    if((year%400==0)or(year%100!=0) and(year%4 ==0)):\n",
    "        lst_days.append(366)\n",
    "    else:\n",
    "        lst_days.append(365)\n",
    "while tot_days <=10000:\n",
    "    tot_days=tot_days+lst_days[count]\n",
    "    count=count+1\n",
    "print(count)\n",
    "\n"
   ]
  },
  {
   "cell_type": "code",
   "execution_count": 33,
   "id": "f4fa20f4",
   "metadata": {},
   "outputs": [],
   "source": [
    "#for 28 old we get 10000 by 28 yeras"
   ]
  },
  {
   "cell_type": "code",
   "execution_count": null,
   "id": "3a7f2432",
   "metadata": {},
   "outputs": [],
   "source": []
  }
 ],
 "metadata": {
  "kernelspec": {
   "display_name": "Python 3 (ipykernel)",
   "language": "python",
   "name": "python3"
  },
  "language_info": {
   "codemirror_mode": {
    "name": "ipython",
    "version": 3
   },
   "file_extension": ".py",
   "mimetype": "text/x-python",
   "name": "python",
   "nbconvert_exporter": "python",
   "pygments_lexer": "ipython3",
   "version": "3.9.7"
  }
 },
 "nbformat": 4,
 "nbformat_minor": 5
}
