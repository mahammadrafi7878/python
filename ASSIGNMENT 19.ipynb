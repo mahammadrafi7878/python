{
 "cells": [
  {
   "cell_type": "raw",
   "id": "205c8ae4",
   "metadata": {},
   "source": [
    "1. Make a class called Thing with no contents and print it. Then, create an object called example from this class and also print it. Are the printed values the same or different?"
   ]
  },
  {
   "cell_type": "code",
   "execution_count": 6,
   "id": "0ad9932c",
   "metadata": {},
   "outputs": [
    {
     "name": "stdout",
     "output_type": "stream",
     "text": [
      "<class '__main__.Thing'>\n",
      "<__main__.Thing object at 0x0000020A3493E940>\n"
     ]
    }
   ],
   "source": [
    "class Thing:\n",
    "    pass \n",
    "print(Thing)\n",
    "example=Thing()\n",
    "print(example)\n",
    "# printed values are different"
   ]
  },
  {
   "cell_type": "raw",
   "id": "6eb3b23e",
   "metadata": {},
   "source": [
    "2. Create a new class called Thing2 and add the value 'abc' to the letters class attribute. Letters should be printed."
   ]
  },
  {
   "cell_type": "code",
   "execution_count": 11,
   "id": "a2027fdc",
   "metadata": {},
   "outputs": [
    {
     "data": {
      "text/plain": [
       "'abc'"
      ]
     },
     "execution_count": 11,
     "metadata": {},
     "output_type": "execute_result"
    }
   ],
   "source": [
    "class Thing2:\n",
    "    letters='abc'\n",
    "Thing2.letters"
   ]
  },
  {
   "cell_type": "raw",
   "id": "dc5cc6d7",
   "metadata": {},
   "source": [
    "3. Make yet another class called, of course, Thing3. This time, assign the value 'xyz' to an instance (object) attribute called letters. Print letters. Do you need to make an object from the class to do this?"
   ]
  },
  {
   "cell_type": "code",
   "execution_count": 77,
   "id": "3fcb167a",
   "metadata": {},
   "outputs": [
    {
     "data": {
      "text/plain": [
       "'xyz'"
      ]
     },
     "execution_count": 77,
     "metadata": {},
     "output_type": "execute_result"
    }
   ],
   "source": [
    "class Thing3:\n",
    "    letters='xyz'\n",
    "Thing3.letters #we dont need object to print values of instance attribute."
   ]
  },
  {
   "cell_type": "raw",
   "id": "f6879c81",
   "metadata": {},
   "source": [
    "4. Create an Element class with the instance attributes name, symbol, and number. Create a class object with the values 'Hydrogen,' 'H,' and 1."
   ]
  },
  {
   "cell_type": "code",
   "execution_count": 22,
   "id": "79938092",
   "metadata": {},
   "outputs": [
    {
     "name": "stdout",
     "output_type": "stream",
     "text": [
      "Hydrogen\n",
      "H\n",
      "1\n"
     ]
    }
   ],
   "source": [
    "class Element:\n",
    "    def __init__(self,name,symbol,number):\n",
    "        self.name=name\n",
    "        self.symbol=symbol\n",
    "        self.number=number\n",
    "object=Element('Hydrogen' ,'H',1)\n",
    "print(object.name)\n",
    "print(object.symbol)\n",
    "print(object.number)"
   ]
  },
  {
   "cell_type": "raw",
   "id": "427894d2",
   "metadata": {},
   "source": [
    "5. Make a dictionary with these keys and values: 'name': 'Hydrogen', 'symbol': 'H', 'number': 1. Then, create an object called hydrogen from class Element using this dictionary."
   ]
  },
  {
   "cell_type": "code",
   "execution_count": 27,
   "id": "495f93e1",
   "metadata": {},
   "outputs": [
    {
     "name": "stdout",
     "output_type": "stream",
     "text": [
      "{'name': 'Hydrogen', 'symbol': 'H', 'number': 1}\n"
     ]
    }
   ],
   "source": [
    "class Element:\n",
    "    def __init__(self,dictionary):\n",
    "        for k,v in dictionary.items():\n",
    "            self.k=v\n",
    "dictionary={'name': 'Hydrogen', 'symbol': 'H', 'number': 1}\n",
    "print(dictionary)\n",
    "hydrogen=Element(dictionary)"
   ]
  },
  {
   "cell_type": "raw",
   "id": "e367ed7c",
   "metadata": {},
   "source": [
    "6. For the Element class, define a method called dump() that prints the values of the object’s attributes (name, symbol, and number). Create the hydrogen object from this new definition and use dump() to print its attributes."
   ]
  },
  {
   "cell_type": "code",
   "execution_count": 31,
   "id": "ba3126f2",
   "metadata": {},
   "outputs": [
    {
     "name": "stdout",
     "output_type": "stream",
     "text": [
      "the name ofelement is:  Hydrogen\n",
      "the symbol of element is:  H\n",
      "the number of element is:  1\n"
     ]
    }
   ],
   "source": [
    "class Element:\n",
    "    def __init__(self,name,symbol,number):\n",
    "        self.name=name\n",
    "        self.symbol=symbol\n",
    "        self.number=number\n",
    "    def dump(self):\n",
    "        print(\"the name ofelement is: \",self.name)\n",
    "        print(\"the symbol of element is: \",self.symbol)\n",
    "        print(\"the number of element is: \",self.number)\n",
    "hydrogen=Element('Hydrogen' ,'H',1)\n",
    "hydrogen.dump()"
   ]
  },
  {
   "cell_type": "raw",
   "id": "c67911f8",
   "metadata": {},
   "source": [
    "7. Call print(hydrogen). In the definition of Element, change the name of method dump to __str__, create a new hydrogen object, and call print(hydrogen) again."
   ]
  },
  {
   "cell_type": "code",
   "execution_count": 33,
   "id": "58284308",
   "metadata": {},
   "outputs": [
    {
     "name": "stdout",
     "output_type": "stream",
     "text": [
      "<__main__.Element object at 0x0000020A34A3FE20>\n",
      "<__main__.Element object at 0x0000020A34A3FE20>\n"
     ]
    }
   ],
   "source": [
    "print(hydrogen)\n",
    "class Element:\n",
    "    def __init__(self,name,symbol,number):\n",
    "        self.name=name\n",
    "        self.symbol=symbol\n",
    "        self.number=number\n",
    "    def __str__(self):\n",
    "        print(\"the name ofelement is: \",self.name)\n",
    "        print(\"the symbol of element is: \",self.symbol)\n",
    "        print(\"the number of element is: \",self.number)\n",
    "print(hydrogen)"
   ]
  },
  {
   "cell_type": "raw",
   "id": "a329c88c",
   "metadata": {},
   "source": [
    "8. Modify Element to make the attributes name, symbol, and number private. Define a getter property for each to return its value."
   ]
  },
  {
   "cell_type": "code",
   "execution_count": 53,
   "id": "7612897c",
   "metadata": {},
   "outputs": [
    {
     "name": "stdout",
     "output_type": "stream",
     "text": [
      "hydrogen\n",
      "h\n",
      "1\n",
      "the name ofelement is:  Hydrogen\n",
      "the symbol of element is:  H\n",
      "the number of element is:  1\n"
     ]
    }
   ],
   "source": [
    "# to make attributes of element class we need to give double place holder\n",
    "class Element:\n",
    "    def __init__(self,name,symbol,number):\n",
    "        self.__name=name\n",
    "        self.__symbol=symbol\n",
    "        self.__number=number\n",
    "hydrogen=Element(\"hydrogen\",\"h\",1)  #creating a object for Element class \n",
    "print(hydrogen._Element__name)\n",
    "print(hydrogen._Element__symbol)\n",
    "print(hydrogen._Element__number)\n",
    "#anoter way is\n",
    "class Element:\n",
    "    def __init__(self,name,symbol,number):\n",
    "        self.__name=name\n",
    "        self.__symbol=symbol\n",
    "        self.__number=number\n",
    "    def dump(self):\n",
    "        print(\"the name ofelement is: \",self.__name)\n",
    "        print(\"the symbol of element is: \",self.__symbol)\n",
    "        print(\"the number of element is: \",self.__number)\n",
    "hydrogen=Element('Hydrogen' ,'H',1)\n",
    "hydrogen.dump()"
   ]
  },
  {
   "cell_type": "raw",
   "id": "6726b351",
   "metadata": {},
   "source": [
    "9. Define three classes: Bear, Rabbit, and Octothorpe. For each, define only one method: eats(). This should return 'berries' (Bear), 'clover' (Rabbit), or 'campers' (Octothorpe). Create one object from each and print what it eats."
   ]
  },
  {
   "cell_type": "code",
   "execution_count": 64,
   "id": "bdffbdca",
   "metadata": {},
   "outputs": [
    {
     "name": "stdout",
     "output_type": "stream",
     "text": [
      "berries\n",
      "None\n",
      "clover\n",
      "None\n",
      "campers\n",
      "None\n"
     ]
    }
   ],
   "source": [
    "class Bear:\n",
    "    def eats(self):\n",
    "        print(\"berries\")\n",
    "class Rabbit:\n",
    "    def eats(self):\n",
    "        print(\"clover\")\n",
    "class Octothorpe:\n",
    "    def eats(self):\n",
    "        print(\"campers\")\n",
    "a=Bear()\n",
    "print(a.eats())\n",
    "b=Rabbit()\n",
    "print(b.eats())\n",
    "c=Octothorpe()\n",
    "print(c.eats())"
   ]
  },
  {
   "cell_type": "raw",
   "id": "3ef6e05a",
   "metadata": {},
   "source": [
    "10. Define these classes: Laser, Claw, and SmartPhone. Each has only one method: does(). This returns 'disintegrate' (Laser), 'crush' (Claw), or 'ring' (SmartPhone). Then, define the class Robot that has one instance (object) of each of these. Define a does() method for the Robot that prints what its component objects do."
   ]
  },
  {
   "cell_type": "code",
   "execution_count": 78,
   "id": "f293199c",
   "metadata": {},
   "outputs": [],
   "source": [
    "class Laser:\n",
    "    def does(self):\n",
    "        return \"disintegrate\"\n",
    "class Claw:\n",
    "    def does(self):\n",
    "        return \"claw \"\n",
    "class SmartPhone:\n",
    "    def does(self):\n",
    "        return \"ring\"\n",
    "class Robot(Laser,Claw,SmartPhone):\n",
    "    def does(self):\n",
    "        print(\"whats its component objects do\")"
   ]
  },
  {
   "cell_type": "code",
   "execution_count": null,
   "id": "14cc78dd",
   "metadata": {},
   "outputs": [],
   "source": []
  }
 ],
 "metadata": {
  "kernelspec": {
   "display_name": "Python 3 (ipykernel)",
   "language": "python",
   "name": "python3"
  },
  "language_info": {
   "codemirror_mode": {
    "name": "ipython",
    "version": 3
   },
   "file_extension": ".py",
   "mimetype": "text/x-python",
   "name": "python",
   "nbconvert_exporter": "python",
   "pygments_lexer": "ipython3",
   "version": "3.9.7"
  }
 },
 "nbformat": 4,
 "nbformat_minor": 5
}
