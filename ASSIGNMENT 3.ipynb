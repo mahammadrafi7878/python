{
 "cells": [
  {
   "cell_type": "raw",
   "id": "2e379429",
   "metadata": {},
   "source": [
    "1. Why are functions advantageous to have in your programs?"
   ]
  },
  {
   "cell_type": "raw",
   "id": "e059111f",
   "metadata": {},
   "source": [
    "function is a piece of code that perform a specific task.\n",
    "The main advantage of fuction is reusability of code.\n",
    "The advantageous of functions, in many cases we want to rewrite same program or code many times, instead of writing same code so  many times write code inside function  and we can call any where.if we write inside a fuction .we can call it when we need any time  to perform that task. \n",
    "Function can return multiple outputs at a time in tuple form. \n",
    "Using function we make program shorter ,simple to read and program complexity."
   ]
  },
  {
   "cell_type": "raw",
   "id": "3a08ac05",
   "metadata": {},
   "source": [
    "2. When does the code in a function run: when it's specified or when it's called?"
   ]
  },
  {
   "cell_type": "raw",
   "id": "fa667306",
   "metadata": {},
   "source": [
    "The code in function run when we call the function with its parameters.\n",
    "The code in function can called at any time with function name and its parameters in that console only.\n",
    "When we call function it enters into body of the function and execute it.\n",
    "There are some inbuilt functions can call any where and wecan create user defined functions that we can call in that console."
   ]
  },
  {
   "cell_type": "raw",
   "id": "6300d76d",
   "metadata": {},
   "source": [
    "3. What statement creates a function?"
   ]
  },
  {
   "cell_type": "raw",
   "id": "afc40a3c",
   "metadata": {},
   "source": [
    "There is a inbuilt keyword 'def' is used to create a function. \n",
    "After this key word we gave function name and inside its square braces we can give its parameters. \n",
    "Function creation statement endwith a indentation mark. without indentation mark function does not create.\n",
    "Ex: stament of creates fuction:\n",
    " def sum(a,b):"
   ]
  },
  {
   "cell_type": "raw",
   "id": "ff509058",
   "metadata": {},
   "source": [
    "4. What is the difference between a function and a function call?"
   ]
  },
  {
   "cell_type": "raw",
   "id": "ce963d5b",
   "metadata": {},
   "source": [
    "we create a fuction with some line of code writing inside function to perform task. \n",
    "Some piece of code with a function name is called as fuction. \n",
    "Ff we want to access or use of that code we need to call that function with function name and its parameters.\n",
    "We call function name and its parameters to do given task is called as fuction call."
   ]
  },
  {
   "cell_type": "raw",
   "id": "59246510",
   "metadata": {},
   "source": [
    "5. How many global scopes are there in a Python program? How many local scopes?"
   ]
  },
  {
   "cell_type": "raw",
   "id": "85b98966",
   "metadata": {},
   "source": [
    "There's only one global python scope per program execution. \n",
    "This scope  remains existence untill the program terminates and all its names are forgotten.\n",
    "A varible that defines out side a function body have a global scope.\n",
    "Ther's only one local scope per program exection .\n",
    "A variable that defines inside a function body is called as local scope.This scope  remains existence untill the program terminates.\n",
    "The python scope concept is generally presented using a rule known as LEGB rule i.e local,enclosing,globaland built in scopes.\n"
   ]
  },
  {
   "cell_type": "raw",
   "id": "31bf51e3",
   "metadata": {},
   "source": [
    "6. What happens to variables in a local scope when the function call returns?"
   ]
  },
  {
   "cell_type": "raw",
   "id": "f37824de",
   "metadata": {},
   "source": [
    "A local variable retains its value untill the next time the function is called.\n",
    "The local variable can be used outside the fuction any time after the function call completes."
   ]
  },
  {
   "cell_type": "raw",
   "id": "1bdf1ef0",
   "metadata": {},
   "source": [
    "7. What is the concept of a return value? Is it possible to have a return value in an expression?"
   ]
  },
  {
   "cell_type": "raw",
   "id": "8103ca7f",
   "metadata": {},
   "source": [
    "A return is a value that returns to the calling function when it completes its task.\n",
    "The return value may be one of four variable types:handler, integer,object and string"
   ]
  },
  {
   "cell_type": "raw",
   "id": "549e702b",
   "metadata": {},
   "source": [
    "8. If a function does not have a return statement, what is the return value of a call to that function?"
   ]
  },
  {
   "cell_type": "raw",
   "id": "73b0cc50",
   "metadata": {},
   "source": [
    "If no return statement appears in a function defination,control automatically returns to the calling function after the last statment of the calling function executed, in this case the value of called function is undefine"
   ]
  },
  {
   "cell_type": "raw",
   "id": "c62197d7",
   "metadata": {},
   "source": [
    "9. How do you make a function variable refer to the global variable?"
   ]
  },
  {
   "cell_type": "raw",
   "id": "1505883b",
   "metadata": {},
   "source": [
    "A variable declare outside of a function is called as global variable. \n",
    "If we want to refer a global variable to function varible then use global keyword and define it."
   ]
  },
  {
   "cell_type": "raw",
   "id": "bf477c5f",
   "metadata": {},
   "source": [
    "10. What is the data type of None?"
   ]
  },
  {
   "cell_type": "raw",
   "id": "bbf2eaa7",
   "metadata": {},
   "source": [
    "None is a data type of its own nonetype and only none can be none. \n",
    "The none keyword generally use to define null value or no value. \n",
    "None is not same as 0,Falseand any empty string"
   ]
  },
  {
   "cell_type": "raw",
   "id": "d7143b0b",
   "metadata": {},
   "source": [
    "11. What does the sentence import areallyourpetsnamederic do?"
   ]
  },
  {
   "cell_type": "raw",
   "id": "b991c452",
   "metadata": {},
   "source": [
    "import statement imports the areallyourpetsnamederic module. it is not a real python module."
   ]
  },
  {
   "cell_type": "raw",
   "id": "cf2001db",
   "metadata": {},
   "source": [
    "12. If you had a bacon() feature in a spam module, what would you call it after importing spam?"
   ]
  },
  {
   "cell_type": "raw",
   "id": "34a57b7f",
   "metadata": {},
   "source": [
    "After importing spam  module, then it will be able to acces functions and methods inside this module.\n",
    "spam.bacon()"
   ]
  },
  {
   "cell_type": "raw",
   "id": "0916d47a",
   "metadata": {},
   "source": [
    "13. What can you do to save a programme from crashing if it encounters an error?"
   ]
  },
  {
   "cell_type": "raw",
   "id": "1dc15410",
   "metadata": {},
   "source": [
    "when a programme enconter with erros and to save i will write  Try block where will the programme go to give error and i can write except block then the control passed to except block skipping the code  between . \n",
    "We can store all errors into a file using logging keyword."
   ]
  },
  {
   "cell_type": "raw",
   "id": "aa7939b0",
   "metadata": {},
   "source": [
    "14. What is the purpose of the try clause? What is the purpose of the except clause?"
   ]
  },
  {
   "cell_type": "raw",
   "id": "5538c6f3",
   "metadata": {},
   "source": [
    "The purpose of try and except clause is used to run the code even getting error, showing the error in a logging file .\n",
    "We can write try block  where we may get error and except block for control passed to except block."
   ]
  }
 ],
 "metadata": {
  "kernelspec": {
   "display_name": "Python 3 (ipykernel)",
   "language": "python",
   "name": "python3"
  },
  "language_info": {
   "codemirror_mode": {
    "name": "ipython",
    "version": 3
   },
   "file_extension": ".py",
   "mimetype": "text/x-python",
   "name": "python",
   "nbconvert_exporter": "python",
   "pygments_lexer": "ipython3",
   "version": "3.9.7"
  }
 },
 "nbformat": 4,
 "nbformat_minor": 5
}
