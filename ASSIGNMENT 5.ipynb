{
 "cells": [
  {
   "cell_type": "raw",
   "id": "e5902414",
   "metadata": {},
   "source": [
    "1. What does an empty dictionary's code look like?"
   ]
  },
  {
   "cell_type": "raw",
   "id": "7474caf0",
   "metadata": {},
   "source": [
    "The empty dictionary code looks like dictionary data type only . if we pass only key or value one of them then its look like set data type."
   ]
  },
  {
   "cell_type": "raw",
   "id": "492b4417",
   "metadata": {},
   "source": [
    "2. What is the value of a dictionary value with the key 'foo' and the value 42?"
   ]
  },
  {
   "cell_type": "raw",
   "id": "a3629dd3",
   "metadata": {},
   "source": [
    "Here given key:'foo' \n",
    "    and value:42\n",
    "    keys are perform as indexes and value perform as values of that key.\n",
    "    in dictionary code d={'foo':42}\n",
    "    from d dictionary the value of d is 42."
   ]
  },
  {
   "cell_type": "raw",
   "id": "7ed9e157",
   "metadata": {},
   "source": [
    "3. What is the most significant distinction between a dictionary and a list?"
   ]
  },
  {
   "cell_type": "raw",
   "id": "0ce8d646",
   "metadata": {},
   "source": [
    "Dictionary data types contains or represent with pair of key and value.\n",
    "The key should be unique one and value should be any one.\n",
    "In key we can write tuple and string but in value we can write list tuple, set,string and dictionarirs also\n",
    "ex:d={'foo':42}\n",
    "List is a collection of multiple different datatypes.\n",
    "In list we can declare n number of records.\n",
    "We represent it in square brackets.\n",
    "ex:[1,4,5,7,8,9]"
   ]
  },
  {
   "cell_type": "raw",
   "id": "1d9d076a",
   "metadata": {},
   "source": [
    "4. What happens if you try to access spam['foo'] if spam is {'bar': 100}?"
   ]
  },
  {
   "cell_type": "raw",
   "id": "cf280ae5",
   "metadata": {},
   "source": [
    "given spam={'bar':100} \n",
    "searching for value of foo key then \n",
    "spam['foo']==> it gives key error  because of, the dictionary spam don't have foo type key and value"
   ]
  },
  {
   "cell_type": "raw",
   "id": "a6d67cb8",
   "metadata": {},
   "source": [
    "5. If a dictionary is stored in spam, what is the difference between the expressions 'cat' in spam and 'cat' in spam.keys()?\n"
   ]
  },
  {
   "cell_type": "raw",
   "id": "8bf314ba",
   "metadata": {},
   "source": [
    "in spam dictionary we have spam={'bar':100}\n",
    "if we perform expression cat in spam \n",
    "spam='cat'\n",
    "then the key value in spam 'bar' changes into 'cat'\n",
    "spam={'cat':100}\n",
    "and performing spam.keys() operation then it returns all keys in spam in list inside tuple form as 'dict_keys(['cat'])'"
   ]
  },
  {
   "cell_type": "raw",
   "id": "47bd52c4",
   "metadata": {},
   "source": [
    "6. If a dictionary is stored in spam, what is the difference between the expressions 'cat' in spam and 'cat' in spam.values()?"
   ]
  },
  {
   "cell_type": "raw",
   "id": "0d26fdaa",
   "metadata": {},
   "source": [
    "if we perform expression cat in spam \n",
    "spam='cat'\n",
    "then the key value in spam 'bar' changes into 'cat'\n",
    "spam={'cat':100}\n",
    "and performing spam.values() operation then it returns all values in spam in list inside tuple form as 'dict_values([100])'"
   ]
  },
  {
   "cell_type": "code",
   "execution_count": null,
   "id": "35916de0",
   "metadata": {},
   "outputs": [],
   "source": []
  },
  {
   "cell_type": "code",
   "execution_count": null,
   "id": "f0349a6c",
   "metadata": {},
   "outputs": [],
   "source": []
  },
  {
   "cell_type": "code",
   "execution_count": null,
   "id": "3a516ef5",
   "metadata": {},
   "outputs": [],
   "source": []
  },
  {
   "cell_type": "raw",
   "id": "6915c9ac",
   "metadata": {},
   "source": [
    "7. What is a shortcut for the following code?\n",
    "\n",
    "if 'color' not in spam:\n",
    "\n",
    "spam['color'] = 'black'\n"
   ]
  },
  {
   "cell_type": "raw",
   "id": "34728f86",
   "metadata": {},
   "source": [
    "we directly defining a spam dictionarie  as \n",
    "spam={'color':'black'} \n",
    "If key value color not exist in that dictionary then it will create and give key value pair, \n",
    "if color key exist already then the value will be over written and key is color and value is black\n"
   ]
  },
  {
   "cell_type": "code",
   "execution_count": null,
   "id": "7864cb0c",
   "metadata": {},
   "outputs": [],
   "source": []
  },
  {
   "cell_type": "code",
   "execution_count": null,
   "id": "19426ae6",
   "metadata": {},
   "outputs": [],
   "source": []
  },
  {
   "cell_type": "code",
   "execution_count": null,
   "id": "d3e18fd9",
   "metadata": {},
   "outputs": [],
   "source": []
  },
  {
   "cell_type": "raw",
   "id": "536b691a",
   "metadata": {},
   "source": [
    "8. How do you \"pretty print\" dictionary values using which module and function"
   ]
  },
  {
   "cell_type": "raw",
   "id": "88b02cb8",
   "metadata": {},
   "source": [
    "we can print pretty dictionary values using pretty as module and values as function\n",
    "pretty_values():\n",
    "    for i in pretty_values():\n",
    "        print(i)"
   ]
  },
  {
   "cell_type": "code",
   "execution_count": null,
   "id": "600ba569",
   "metadata": {},
   "outputs": [],
   "source": []
  }
 ],
 "metadata": {
  "kernelspec": {
   "display_name": "Python 3 (ipykernel)",
   "language": "python",
   "name": "python3"
  },
  "language_info": {
   "codemirror_mode": {
    "name": "ipython",
    "version": 3
   },
   "file_extension": ".py",
   "mimetype": "text/x-python",
   "name": "python",
   "nbconvert_exporter": "python",
   "pygments_lexer": "ipython3",
   "version": "3.9.7"
  }
 },
 "nbformat": 4,
 "nbformat_minor": 5
}
