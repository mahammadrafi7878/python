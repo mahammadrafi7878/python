{
 "cells": [
  {
   "cell_type": "raw",
   "id": "426140a1",
   "metadata": {},
   "source": [
    "1. What does RGBA stand for?"
   ]
  },
  {
   "cell_type": "raw",
   "id": "980028d9",
   "metadata": {},
   "source": [
    "RGBA stands for Red,Geen, Blue and Alpha.\n",
    "The RGB color mode is extended in the specification to include \"alpha\" to allow specification of the capacity of color."
   ]
  },
  {
   "cell_type": "raw",
   "id": "132e9417",
   "metadata": {},
   "source": [
    "2. From the Pillow module, how do you get the RGBA value of any images?"
   ]
  },
  {
   "cell_type": "code",
   "execution_count": 18,
   "id": "8ec4e2b6",
   "metadata": {},
   "outputs": [
    {
     "name": "stdout",
     "output_type": "stream",
     "text": [
      "Requirement already satisfied: pillow in c:\\users\\wonder\\appdata\\roaming\\python\\python39\\site-packages (9.1.0)\n"
     ]
    },
    {
     "data": {
      "text/plain": [
       "<ImagingCore at 0x246ed965150>"
      ]
     },
     "execution_count": 18,
     "metadata": {},
     "output_type": "execute_result"
    }
   ],
   "source": [
    "#To generate transparent png using python, the pillow library is used, from pillow module import the image module.\n",
    "!pip install pillow\n",
    "from PIL import Image\n",
    "img=Image.open('image.jpg')\n",
    "#this line gives the values of rgba\n",
    "rgba=img.convert(\"RGBA\")\n",
    "data=rgba.getdata()\n",
    "data\n",
    "#for i in data:\n",
    "    #print(i)\n"
   ]
  },
  {
   "cell_type": "raw",
   "id": "e23f5726",
   "metadata": {},
   "source": [
    "3. What is a box tuple, and how does it work?"
   ]
  },
  {
   "cell_type": "raw",
   "id": "898ee929",
   "metadata": {},
   "source": [
    "Box tuple has four integer co-ordinates in tuple form .\n",
    "Many of pillows methodstake a box tuple argument .\n",
    "This means the pillow is expecting a tuple of integer \n",
    "box tuple has for coordinates are (Top,Left,Bottom and Right)"
   ]
  },
  {
   "cell_type": "raw",
   "id": "49a785d4",
   "metadata": {},
   "source": [
    "4. Use your image and load in notebook then, How can you find out the width and height of an Image object?"
   ]
  },
  {
   "cell_type": "code",
   "execution_count": 21,
   "id": "8b27e313",
   "metadata": {},
   "outputs": [
    {
     "name": "stdout",
     "output_type": "stream",
     "text": [
      "the given image width is:  225\n",
      "the given image height is:  225\n"
     ]
    }
   ],
   "source": [
    "#There are two approches one by using Pillows(PIL) library and second one is OPEN CV library.\n",
    "from PIL import Image\n",
    "img=Image.open('image.jpg')\n",
    "# using below statements we can find height and width of a pic\n",
    "width=img.width\n",
    "height=img.height\n",
    "print(\"the given image width is: \",width)\n",
    "print(\"the given image height is: \",height)"
   ]
  },
  {
   "cell_type": "raw",
   "id": "b0ad9678",
   "metadata": {},
   "source": [
    "5. What method would you call to get Image object for a 100×100 image, excluding the lower-left quarter of it?"
   ]
  },
  {
   "cell_type": "raw",
   "id": "3232aca5",
   "metadata": {},
   "source": [
    "Firstly we open image using open() function and then convert it into arrays  type using numpy ,then giving methods as like\n",
    "image=img_arr[0:-400,0:400]\n",
    "image.fromarray(image)"
   ]
  },
  {
   "cell_type": "raw",
   "id": "fa31f54d",
   "metadata": {},
   "source": [
    "6. After making changes to an Image object, how could you save it as an image file?"
   ]
  },
  {
   "cell_type": "raw",
   "id": "e0cc8b34",
   "metadata": {},
   "source": [
    "we can save images by using image.save() method "
   ]
  },
  {
   "cell_type": "raw",
   "id": "b99e8aa7",
   "metadata": {},
   "source": [
    "7. What module contains Pillow’s shape-drawing code?"
   ]
  },
  {
   "cell_type": "raw",
   "id": "9ed3bf3a",
   "metadata": {},
   "source": [
    "ImgeDraw module contains pillows shape-drawing code."
   ]
  },
  {
   "cell_type": "raw",
   "id": "15b33fa1",
   "metadata": {},
   "source": [
    "8. Image objects do not have drawing methods. What kind of object does? How do you get this kind of object?\n",
    "\n"
   ]
  },
  {
   "cell_type": "raw",
   "id": "05a3c529",
   "metadata": {},
   "source": [
    "Image processing is a method to perform operation onan image to extract information or enhance it."
   ]
  }
 ],
 "metadata": {
  "kernelspec": {
   "display_name": "Python 3 (ipykernel)",
   "language": "python",
   "name": "python3"
  },
  "language_info": {
   "codemirror_mode": {
    "name": "ipython",
    "version": 3
   },
   "file_extension": ".py",
   "mimetype": "text/x-python",
   "name": "python",
   "nbconvert_exporter": "python",
   "pygments_lexer": "ipython3",
   "version": "3.9.7"
  }
 },
 "nbformat": 4,
 "nbformat_minor": 5
}
