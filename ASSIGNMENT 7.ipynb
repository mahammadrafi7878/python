{
 "cells": [
  {
   "cell_type": "raw",
   "id": "2dde61ad",
   "metadata": {},
   "source": [
    "1. What is the name of the feature responsible for generating Regex objects?"
   ]
  },
  {
   "cell_type": "raw",
   "id": "088d0d67",
   "metadata": {},
   "source": [
    "The python regular expression(regex) engine a compiled regular expression(RegEx) objects using compile function.\n",
    "re.compile()"
   ]
  },
  {
   "cell_type": "raw",
   "id": "fdc4e1d6",
   "metadata": {},
   "source": [
    "2. Why do raw strings often appear in Regex objects?"
   ]
  },
  {
   "cell_type": "raw",
   "id": "ee4490cb",
   "metadata": {},
   "source": [
    "\n",
    "re.search(r'portal','what is your portal number')\n",
    "Here r is raw string. it appear in regex object because of it do not interprete \\ is an  escape character.this is difference between raw string and regex string"
   ]
  },
  {
   "cell_type": "raw",
   "id": "d26fcd5c",
   "metadata": {},
   "source": [
    "3. What is the return value of the search() method?"
   ]
  },
  {
   "cell_type": "raw",
   "id": "d76d2671",
   "metadata": {},
   "source": [
    "The re.search() method takes a regular expression pattern and a string and search for that pattern with in the string .if search is successful search() return a mattched object or None otherwise."
   ]
  },
  {
   "cell_type": "raw",
   "id": "7aa007c0",
   "metadata": {},
   "source": []
  },
  {
   "cell_type": "code",
   "execution_count": null,
   "id": "8108e17a",
   "metadata": {},
   "outputs": [],
   "source": []
  },
  {
   "cell_type": "raw",
   "id": "8ba7b73a",
   "metadata": {},
   "source": [
    "4. From a Match item, how do you get the actual strings that match the pattern"
   ]
  },
  {
   "cell_type": "raw",
   "id": "1863f656",
   "metadata": {},
   "source": [
    "The group method returns strings of the matched character or text"
   ]
  },
  {
   "cell_type": "raw",
   "id": "d965c72e",
   "metadata": {},
   "source": [
    "5. In the regex which created from the r'(\\d\\d\\d)-(\\d\\d\\d-\\d\\d\\d\\d)', what does group zero cover? Group 2? Group 1?"
   ]
  },
  {
   "cell_type": "raw",
   "id": "e7593c86",
   "metadata": {},
   "source": [
    "Grouping is the process of seperating expression into groupes by using parantheses. for given r'(\\d\\d\\d)-(\\d\\d\\d-\\d\\d\\d\\d)', \n",
    "Group 0 is the entire match \n",
    "Group1 is the first set of parentheses:(\\d\\d\\d). \n",
    "Group 2 is the second set of parentheses:(\\d\\d\\d-\\d\\d\\d\\d)."
   ]
  },
  {
   "cell_type": "raw",
   "id": "3b2a07d8",
   "metadata": {},
   "source": [
    "6. In standard expression syntax, parentheses and intervals have distinct meanings. How can you tell a regex that you want it to fit real parentheses and periods?"
   ]
  },
  {
   "cell_type": "raw",
   "id": "05025506",
   "metadata": {},
   "source": [
    "periods and parantheses can be escaped with using backslash:  \\. , \\( and  \\)"
   ]
  },
  {
   "cell_type": "raw",
   "id": "495dd345",
   "metadata": {},
   "source": [
    "7. The findall() method returns a string list or a list of string tuples. What causes it to return one of the two options?"
   ]
  },
  {
   "cell_type": "raw",
   "id": "b5a401b8",
   "metadata": {},
   "source": [
    "If regex has no groups ,then a list of strings is returned.\n",
    "If the regex has groups then a list of tuples of string is returned."
   ]
  },
  {
   "cell_type": "raw",
   "id": "c866fd94",
   "metadata": {},
   "source": [
    "8. In standard expressions, what does the | character mean?"
   ]
  },
  {
   "cell_type": "raw",
   "id": "f3d66fe6",
   "metadata": {},
   "source": [
    "The character | signifies mean OR(matching eiether or between two groups)"
   ]
  },
  {
   "cell_type": "raw",
   "id": "75b80c85",
   "metadata": {},
   "source": [
    "9. In regular expressions,what does the character stand for ?"
   ]
  },
  {
   "cell_type": "raw",
   "id": "188bf901",
   "metadata": {},
   "source": [
    "The ? character can eiether mean \"match zero or one of the preceding group\" or be used to signifies non greedy matching."
   ]
  },
  {
   "cell_type": "raw",
   "id": "c37cc3f7",
   "metadata": {},
   "source": [
    "10.In regular expressions, what is the difference between the + and * characters?"
   ]
  },
  {
   "cell_type": "raw",
   "id": "d99e2481",
   "metadata": {},
   "source": [
    "The + character matches one or more,\n",
    "The * matches zero or more"
   ]
  },
  {
   "cell_type": "raw",
   "id": "2a8dcf15",
   "metadata": {},
   "source": [
    "11. What is the difference between {4} and {4,5} in regular expression?"
   ]
  },
  {
   "cell_type": "raw",
   "id": "b982b0c5",
   "metadata": {},
   "source": [
    "The {4} matches exactly four instances of the precceding group.\n",
    "The {4,5} matches between four and five instances of the precceding grouop."
   ]
  },
  {
   "cell_type": "raw",
   "id": "2385aff0",
   "metadata": {},
   "source": [
    "12. What do you mean by the \\d, \\w, and \\s shorthand character classes signify in regular expressions?"
   ]
  },
  {
   "cell_type": "raw",
   "id": "faed4fc7",
   "metadata": {},
   "source": [
    "\\d shorthand character means match a single digit.\n",
    "\\w shorthand character means match alphanumeric character.\n",
    "\\s shorthand character means white space character."
   ]
  },
  {
   "cell_type": "raw",
   "id": "3077ad9a",
   "metadata": {},
   "source": [
    "13. What do means by \\D, \\W, and \\S shorthand character classes signify in regular expressions?"
   ]
  },
  {
   "cell_type": "raw",
   "id": "de5f9e9b",
   "metadata": {},
   "source": [
    " \\D shorthand character  means match any non digit character.\n",
    "\\W shorthand character means match any non alphanumeric character.\n",
    "\\s shorthand character means match any non white space character."
   ]
  },
  {
   "cell_type": "raw",
   "id": "90c88160",
   "metadata": {},
   "source": [
    "14. What is the difference between .*? and .*?"
   ]
  },
  {
   "cell_type": "raw",
   "id": "9b9c4ba4",
   "metadata": {},
   "source": [
    "The . perform a greedy match operation(any character inside except newline)\n",
    "The ? character performs non greedy operation."
   ]
  },
  {
   "cell_type": "raw",
   "id": "4dfd175a",
   "metadata": {},
   "source": [
    "15. What is the syntax for matching both numbers and lowercase letters with a character class?"
   ]
  },
  {
   "cell_type": "raw",
   "id": "8943726e",
   "metadata": {},
   "source": [
    "Eiether [0-9a-z] or [a-z0-9]"
   ]
  },
  {
   "cell_type": "raw",
   "id": "3575302d",
   "metadata": {},
   "source": [
    "16. What is the procedure for making a normal expression in regax case insensitive?"
   ]
  },
  {
   "cell_type": "raw",
   "id": "163c8023",
   "metadata": {},
   "source": [
    "Passing re.lIGNORECASE or re.l we can make normal expression in regex."
   ]
  },
  {
   "cell_type": "raw",
   "id": "20cd9d10",
   "metadata": {},
   "source": [
    "17. What does the . character normally match? What does it match if re.DOTALL is passed as 2nd argument in re.compile()?"
   ]
  },
  {
   "cell_type": "raw",
   "id": "c7598f6e",
   "metadata": {},
   "source": [
    "The . character normally match any character except new line. re.DOTALL is passed as scecond argument to recompiles, then dot will also match new line characters."
   ]
  },
  {
   "cell_type": "raw",
   "id": "4d0beed5",
   "metadata": {},
   "source": [
    "18. If numReg = re.compile(r'\\d+'), what will numRegex.sub('X', '11 drummers, 10 pipers, five rings, 4 hen') return?"
   ]
  },
  {
   "cell_type": "raw",
   "id": "eb38616d",
   "metadata": {},
   "source": [
    "'X drummers', 'X pipers', five rings, 'X hens'"
   ]
  },
  {
   "cell_type": "raw",
   "id": "99508f9c",
   "metadata": {},
   "source": [
    "19. What does passing re.VERBOSE as the 2nd argument to re.compile() allow to do?"
   ]
  },
  {
   "cell_type": "raw",
   "id": "6324b21a",
   "metadata": {},
   "source": [
    "The re.VERBOSE argument allows to add white space&comments to string passed to re.compile()"
   ]
  },
  {
   "cell_type": "raw",
   "id": "7c8e963c",
   "metadata": {},
   "source": [
    "20. How would you write a regex that match a number with comma for every three digits? It must match the given following:\n",
    "'42'\n",
    "'1,234'\n",
    "'6,368,745'\n",
    "but not the following:\n",
    "'12,34,567' (which has only two digits between the commas)\n",
    "'1234' (which lacks commas)\n"
   ]
  },
  {
   "cell_type": "raw",
   "id": "16d51e2d",
   "metadata": {},
   "source": [
    "re.compile(r'\\d{1,3}c,\\d{3}$')will create this reregex but other regex string can produce asimilar regular expression."
   ]
  },
  {
   "cell_type": "raw",
   "id": "f7174088",
   "metadata": {},
   "source": [
    "21. How would you write a regex that matches the full name of someone whose last name is Watanabe? You can assume that the first name that comes before it will always be one word that begins with a capital letter. The regex must match the following:\n",
    "'Haruto Watanabe'\n",
    "'Alice Watanabe'\n",
    "'RoboCop Watanabe'\n",
    "but not the following:\n",
    "'haruto Watanabe' (where the first name is not capitalized)\n",
    "'Mr. Watanabe' (where the preceding word has a nonletter character)\n",
    "'Watanabe' (which has no first name)\n",
    "'Haruto watanabe' (where Watanabe is not capitalized)\n"
   ]
  },
  {
   "cell_type": "raw",
   "id": "22658d39",
   "metadata": {},
   "source": [
    "re.compile(r'[A-Z][a-z]*\\sWatanbe)"
   ]
  },
  {
   "cell_type": "raw",
   "id": "4639c59c",
   "metadata": {},
   "source": [
    "22. How would you write a regex that matches a sentence where the first word is either Alice, Bob, or Carol; the second word is either eats, pets, or throws; the third word is apples, cats, or baseballs; and the sentence ends with a period? This regex should be case-insensitive. It must match the following:\n",
    "'Alice eats apples.'\n",
    "'Bob pets cats.'\n",
    "'Carol throws baseballs.'\n",
    "'Alice throws Apples.'\n",
    "'BOB EATS CATS.'\n",
    "but not the following:\n",
    "'RoboCop eats apples.'\n",
    "'ALICE THROWS FOOTBALLS.'\n",
    "'Carol eats 7 cats.'\n",
    "\n"
   ]
  },
  {
   "cell_type": "raw",
   "id": "ae24e2b1",
   "metadata": {},
   "source": [
    "re.compile(r'(alicel|Bob|Carol)\\s(eats|pets|throws)\\s(apples|cats|baseballs)\\.'re.IGNORECASE)"
   ]
  },
  {
   "cell_type": "code",
   "execution_count": null,
   "id": "4e249df7",
   "metadata": {},
   "outputs": [],
   "source": []
  }
 ],
 "metadata": {
  "kernelspec": {
   "display_name": "Python 3 (ipykernel)",
   "language": "python",
   "name": "python3"
  },
  "language_info": {
   "codemirror_mode": {
    "name": "ipython",
    "version": 3
   },
   "file_extension": ".py",
   "mimetype": "text/x-python",
   "name": "python",
   "nbconvert_exporter": "python",
   "pygments_lexer": "ipython3",
   "version": "3.9.7"
  }
 },
 "nbformat": 4,
 "nbformat_minor": 5
}
