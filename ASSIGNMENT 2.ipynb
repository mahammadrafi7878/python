{
 "cells": [
  {
   "cell_type": "raw",
   "id": "c7a911ee",
   "metadata": {},
   "source": [
    "1.What are the two values of the Boolean data type? How do you write them?"
   ]
  },
  {
   "cell_type": "raw",
   "id": "1998cd90",
   "metadata": {},
   "source": [
    "Boolean data type has two values , \n",
    "they are True and False, \n",
    "we write them as first letter of the values should be capital one remaining letters small letters python is case sensitive language souse the values carefully.\n",
    "values of boolean data type:  True, False"
   ]
  },
  {
   "cell_type": "raw",
   "id": "9649feba",
   "metadata": {},
   "source": [
    "2. What are the three different types of Boolean operators?"
   ]
  },
  {
   "cell_type": "raw",
   "id": "5a722e7e",
   "metadata": {},
   "source": [
    "Three basic boolean operators are AND,OR and NOT\n",
    "AND: AND researches find all of the search terms.\n",
    "OR: find one term of the other.\n",
    "NOT:eliminates the items that contain the specified terms."
   ]
  },
  {
   "cell_type": "raw",
   "id": "16271169",
   "metadata": {},
   "source": [
    "3. Make a list of each Boolean operator's truth tables (i.e. every possible combination of Boolean values for the operator and what it evaluate )."
   ]
  },
  {
   "cell_type": "raw",
   "id": "714f825c",
   "metadata": {},
   "source": [
    "AND operator:\n",
    "x y z\n",
    "0 0 0\n",
    "0 1 0\n",
    "1 0 0\n",
    "1 1 1\n",
    "OR operator:\n",
    "x y z\n",
    "0 0 0\n",
    "0 1 1\n",
    "1 0 1\n",
    "1 1 1\n",
    "NOT operator:\n",
    "x z \n",
    "0 1\n",
    "1 0\n"
   ]
  },
  {
   "cell_type": "raw",
   "id": "72a3b6f3",
   "metadata": {},
   "source": [
    "4. What are the values of the following expressions?\n",
    "(5 > 4) and (3 == 5)\n",
    "not (5 > 4)\n",
    "(5 > 4) or (3 == 5)\n",
    "not ((5 > 4) or (3 == 5))\n",
    "(True and True) and (True == False)\n",
    "(not False) or (not True)\n"
   ]
  },
  {
   "cell_type": "raw",
   "id": "eaebc4c3",
   "metadata": {},
   "source": [
    "1.(5 > 4) and (3 == 5) i.e, (true) and (false) gives 'False'\n",
    "2.not (5 > 4) i.e, not(true) gives 'False'\n",
    "3.(5 > 4) or (3 == 5) i.e, (true) or (false) gives 'True'\n",
    "4.not ((5 > 4) or (3 == 5)) i.e, not((true) or(false)) i.e,not(true) gives 'False'\n",
    "5.(True and True) and (True == False)i.e, (true) and (false) gives 'False'\n",
    "6.(not False) or (not True) i.,e (true) or (false) gives 'True'"
   ]
  },
  {
   "cell_type": "raw",
   "id": "92ae3eca",
   "metadata": {},
   "source": [
    "5. What are the six comparison operators?"
   ]
  },
  {
   "cell_type": "raw",
   "id": "269941a6",
   "metadata": {},
   "source": [
    "six comparision operators in python are\n",
    "1.less than(<)\n",
    "2.greater than(>)\n",
    "3.less than or equal to(<=)\n",
    "4.greater than or equal to(>=)\n",
    "5.equal to(==)\n",
    "6.not equal to(!=)"
   ]
  },
  {
   "cell_type": "raw",
   "id": "8b51d673",
   "metadata": {},
   "source": [
    "6. How do you tell the difference between the equal to and assignment operators?Describe a condition and when you would use one."
   ]
  },
  {
   "cell_type": "raw",
   "id": "2f343fc1",
   "metadata": {},
   "source": [
    "the difference between the equal to and assignment operators is ,\n",
    "We use one equql (=) operator when assigning something to something\n",
    "We use two equal(==) operators when we want to comparing something to something, \n",
    "i.e while comparing we use equal(==) operator and for assigning we use equal(=) operator.\n",
    "EX: if a==b: comparing\n",
    "    a=5 assigning 5 to variable a"
   ]
  },
  {
   "cell_type": "raw",
   "id": "abd4c78c",
   "metadata": {},
   "source": [
    "7. Identify the three blocks in this code:\n",
    "spam = 0\n",
    "if spam == 10:\n",
    "print('eggs')\n",
    "if spam > 5:\n",
    "print('bacon')\n",
    "else:\n",
    "print('ham')\n",
    "print('spam')\n",
    "print('spam')\n"
   ]
  },
  {
   "cell_type": "raw",
   "id": "d0a975d9",
   "metadata": {},
   "source": [
    "spam = 0\n",
    "if spam == 10:   #first if block\n",
    "print('eggs')\n",
    "if spam > 5:     # second block is if block\n",
    "print('bacon')\n",
    "else:            # third is else block\n",
    "print('ham')\n",
    "print('spam')\n",
    "print('spam')\n"
   ]
  },
  {
   "cell_type": "raw",
   "id": "301f8d6f",
   "metadata": {},
   "source": [
    "8. Write code that prints Hello if 1 is stored in spam, prints Howdy if 2 is stored in spam, and prints Greetings! if anything else is stored in spam."
   ]
  },
  {
   "cell_type": "code",
   "execution_count": 2,
   "id": "13a5493b",
   "metadata": {},
   "outputs": [
    {
     "name": "stdout",
     "output_type": "stream",
     "text": [
      "hello\n"
     ]
    }
   ],
   "source": [
    "spam=1\n",
    "if spam==1:\n",
    "    print(\"hello\")\n",
    "elif spam==2:\n",
    "    print(\"Howdy\")\n",
    "else:\n",
    "    print(\"Greetings\")"
   ]
  },
  {
   "cell_type": "raw",
   "id": "7687431c",
   "metadata": {},
   "source": [
    "9.If your programme is stuck in an endless loop, what keys you’ll press?"
   ]
  },
  {
   "cell_type": "raw",
   "id": "7f745647",
   "metadata": {},
   "source": [
    "if my program is stuck in endless loop , \n",
    "Then i try to interrupt the kernel and restart the kernel."
   ]
  },
  {
   "cell_type": "raw",
   "id": "a6cf440c",
   "metadata": {},
   "source": [
    "10. How can you tell the difference between break and continue?"
   ]
  },
  {
   "cell_type": "raw",
   "id": "61628099",
   "metadata": {},
   "source": [
    "Break statement: it terminates the loop or come out of the loop.\n",
    "Continue statement:if the condition is true it pass to next statement"
   ]
  },
  {
   "cell_type": "raw",
   "id": "dc29c294",
   "metadata": {},
   "source": [
    "11. In a for loop, what is the difference between range(10), range(0, 10), and range(0, 10, 1)?"
   ]
  },
  {
   "cell_type": "raw",
   "id": "634b62cd",
   "metadata": {},
   "source": [
    "Here range(10),range(0,10),range(0,10,1) gives the same ouptut.\n",
    "In range(10), we give only value then it take as upperbound only.\n",
    "In range(0,10) we give two values it consider the first value as lower bound and second value as upper bound. it returns returns sequence of numbers starting from lower bound upto excluding upper bound value i.e one value before upper bound value.\n",
    "In range(0,10,1) three values ,then it takes first value as lower bound. second value as upperboud ans third value as step size ."
   ]
  },
  {
   "cell_type": "raw",
   "id": "b7ca0729",
   "metadata": {},
   "source": [
    "12. Write a short program that prints the numbers 1 to 10 using a for loop. Then write an equivalent program that prints the numbers 1 to 10 using a while loop."
   ]
  },
  {
   "cell_type": "markdown",
   "id": "f3537da5",
   "metadata": {},
   "source": [
    "for loop:"
   ]
  },
  {
   "cell_type": "code",
   "execution_count": 19,
   "id": "2dc12267",
   "metadata": {},
   "outputs": [
    {
     "name": "stdout",
     "output_type": "stream",
     "text": [
      "1\n",
      "2\n",
      "3\n",
      "4\n",
      "5\n",
      "6\n",
      "7\n",
      "8\n",
      "9\n",
      "10\n"
     ]
    }
   ],
   "source": [
    "for i in range(1,11):\n",
    "    print(i)"
   ]
  },
  {
   "cell_type": "raw",
   "id": "bffbe565",
   "metadata": {},
   "source": [
    "while loop:\n",
    "    "
   ]
  },
  {
   "cell_type": "code",
   "execution_count": 20,
   "id": "95fedc9d",
   "metadata": {},
   "outputs": [
    {
     "name": "stdout",
     "output_type": "stream",
     "text": [
      "1\n",
      "2\n",
      "3\n",
      "4\n",
      "5\n",
      "6\n",
      "7\n",
      "8\n",
      "9\n",
      "10\n"
     ]
    }
   ],
   "source": [
    "i=1\n",
    "n=11\n",
    "while i <n:\n",
    "    print(i)\n",
    "    i=i+1"
   ]
  },
  {
   "cell_type": "raw",
   "id": "7a559b5e",
   "metadata": {},
   "source": [
    "13. If you had a function named bacon() inside a module named spam, how would you call it after importing spam?"
   ]
  },
  {
   "cell_type": "raw",
   "id": "82ce944f",
   "metadata": {},
   "source": [
    "importing spam\n",
    "bacon=spam.bacon()"
   ]
  },
  {
   "cell_type": "code",
   "execution_count": null,
   "id": "8fb87c94",
   "metadata": {},
   "outputs": [],
   "source": []
  },
  {
   "cell_type": "code",
   "execution_count": null,
   "id": "601c2ac9",
   "metadata": {},
   "outputs": [],
   "source": []
  }
 ],
 "metadata": {
  "kernelspec": {
   "display_name": "Python 3 (ipykernel)",
   "language": "python",
   "name": "python3"
  },
  "language_info": {
   "codemirror_mode": {
    "name": "ipython",
    "version": 3
   },
   "file_extension": ".py",
   "mimetype": "text/x-python",
   "name": "python",
   "nbconvert_exporter": "python",
   "pygments_lexer": "ipython3",
   "version": "3.9.7"
  }
 },
 "nbformat": 4,
 "nbformat_minor": 5
}
