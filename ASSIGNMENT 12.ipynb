{
 "cells": [
  {
   "cell_type": "raw",
   "id": "69fa0a58",
   "metadata": {},
   "source": [
    "1. In what modes should the PdfFileReader() and PdfFileWriter() File objects will be opened?"
   ]
  },
  {
   "cell_type": "code",
   "execution_count": null,
   "id": "db98ad84",
   "metadata": {},
   "outputs": [],
   "source": [
    "pdfFileReader() open file object in reading mode. \n",
    "pdfFileWriter() open file object in writing mode.\n",
    "if you want to open pdfFileReader() in a binary mode then pass 'rb' as second parameter to open function.\n",
    "if you want to open pdfFileWriter() in a binary mode then pass 'wb' as second parameter to open function."
   ]
  },
  {
   "cell_type": "raw",
   "id": "0f69ad20",
   "metadata": {},
   "source": [
    "2. From a PdfFileReader object, how do you get a Page object for page 5?"
   ]
  },
  {
   "cell_type": "raw",
   "id": "5498a519",
   "metadata": {},
   "source": [
    "page_obj=pdfFileReader.getPage(5)"
   ]
  },
  {
   "cell_type": "raw",
   "id": "5810aae6",
   "metadata": {},
   "source": [
    "3. What PdfFileReader variable stores the number of pages in the PDF document?"
   ]
  },
  {
   "cell_type": "raw",
   "id": "f5900f4f",
   "metadata": {},
   "source": [
    "pdffileReader.numpages  , stores the number of pages in pdf document"
   ]
  },
  {
   "cell_type": "raw",
   "id": "6923ba4a",
   "metadata": {},
   "source": [
    "4. If a PdfFileReader object’s PDF is encrypted with the password swordfish, what must you do before you can obtain Page objects from it?"
   ]
  },
  {
   "cell_type": "raw",
   "id": "adda3096",
   "metadata": {},
   "source": [
    "Before obtaining page object the pdf has to be decrypted by \n",
    "   filename.decrypt('swordfish')"
   ]
  },
  {
   "cell_type": "raw",
   "id": "26384661",
   "metadata": {},
   "source": [
    "5. What methods do you use to rotate a page?"
   ]
  },
  {
   "cell_type": "raw",
   "id": "df6544be",
   "metadata": {},
   "source": [
    "you get page object by getPage(),\n",
    "you rotate page object by rotateClockWise(), in braces we give how many degree to rotate,\n",
    "you add a page to pdf by addPages() method."
   ]
  },
  {
   "cell_type": "raw",
   "id": "843badfb",
   "metadata": {},
   "source": [
    "6. What is the difference between a Run object and a Paragraph object?"
   ]
  },
  {
   "cell_type": "raw",
   "id": "ad1fcd74",
   "metadata": {},
   "source": [
    "PARAGRAPH OBJECTS: A document contain multiple paragraphs.A paragraph begins with a newline and contain multiple runs.The document object contains a list of program objects for the paragraphs in the document. A new paragraph begins whenever the user ENTER or RETURN while typing in a word document.\n",
    "RUN OBJECTS: Runs are continious groups of characters within a paragraph with the same style.\n"
   ]
  },
  {
   "cell_type": "raw",
   "id": "1e1dca21",
   "metadata": {},
   "source": [
    "7. How do you obtain a list of Paragraph objects for a Document object that’s stored in a variable named doc? "
   ]
  },
  {
   "cell_type": "raw",
   "id": "1ffe563d",
   "metadata": {},
   "source": [
    "#by using below code \n",
    "import docx\n",
    "doc =docx.Document('abc.docx')\n",
    "doc.paragraphs\n",
    "# by using doc.paragraphs \n",
    "We obtain a list of paragraphs by using doc variable  "
   ]
  },
  {
   "cell_type": "raw",
   "id": "86c1a1af",
   "metadata": {},
   "source": [
    "8. What type of object has bold, underline, italic, strike, and outline variables?"
   ]
  },
  {
   "cell_type": "raw",
   "id": "7493f295",
   "metadata": {},
   "source": [
    "A RUN object has bold,underline,italic,strike and outline variables"
   ]
  },
  {
   "cell_type": "raw",
   "id": "2342c9ed",
   "metadata": {},
   "source": [
    "9. What is the difference between False, True, and None for the bold variable?"
   ]
  },
  {
   "cell_type": "raw",
   "id": "b3f9907d",
   "metadata": {},
   "source": [
    "Runs can be further styled using text attributes can be setto one of three values.\n",
    "True: the attribute is always enabled, no matter what other styles are applied to the run.\n",
    "False: the attribute is always disabled.\n",
    "None:defaults to whatever the run's style set to.\n",
    "True always makes the run object bolded  &  False makes it always not bolded,None will make the non object just use the styles."
   ]
  },
  {
   "cell_type": "raw",
   "id": "5bb91626",
   "metadata": {},
   "source": [
    "10. How do you create a Document object for a new Word document?"
   ]
  },
  {
   "cell_type": "raw",
   "id": "6de06f5c",
   "metadata": {},
   "source": [
    "By calling docx.Document()"
   ]
  },
  {
   "cell_type": "raw",
   "id": "ac5c5dcf",
   "metadata": {},
   "source": [
    "11. How do you add a paragraph with the text 'Hello, there!' to a Document object stored in a variable named doc?"
   ]
  },
  {
   "cell_type": "raw",
   "id": "58447960",
   "metadata": {},
   "source": [
    "import docx\n",
    "doc = docx.Document()\n",
    "doc.add_paragrah('knnjjc cngcjkd olsjcm,lckc')\n",
    "doc.(\"Hello,there!.docx\")"
   ]
  },
  {
   "cell_type": "raw",
   "id": "c2ef5314",
   "metadata": {},
   "source": [
    "12. What integers represent the levels of headings available in Word documents?\n",
    "\n"
   ]
  },
  {
   "cell_type": "raw",
   "id": "03158310",
   "metadata": {},
   "source": [
    "integer from 0 to 4.\n",
    "The arguments to add_heading() are a string of the heading text and an interger from 0 to 4.\n",
    "The integer 0 makes the heading the Title style,which is used for the top of the document.\n",
    "Integers 1 to 4 are for various heading levels.\n",
    "With 1 being the main heading and be the lowest subheading. "
   ]
  }
 ],
 "metadata": {
  "kernelspec": {
   "display_name": "Python 3 (ipykernel)",
   "language": "python",
   "name": "python3"
  },
  "language_info": {
   "codemirror_mode": {
    "name": "ipython",
    "version": 3
   },
   "file_extension": ".py",
   "mimetype": "text/x-python",
   "name": "python",
   "nbconvert_exporter": "python",
   "pygments_lexer": "ipython3",
   "version": "3.9.7"
  }
 },
 "nbformat": 4,
 "nbformat_minor": 5
}
