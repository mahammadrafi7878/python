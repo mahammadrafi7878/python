{
 "cells": [
  {
   "cell_type": "raw",
   "id": "84ccd6e6",
   "metadata": {},
   "source": [
    "1) . What is the difference between enclosing a list comprehension in square brackets and parentheses?"
   ]
  },
  {
   "cell_type": "raw",
   "id": "756653a0",
   "metadata": {},
   "source": [
    "In python square brackets are lists as while square brackets for tuples.\n",
    "Enclosing a comprehension in side square brackets then it is list comprehension.\n",
    "Enclosing a list comprehension inside square brackets Then it become as tuple comprehension."
   ]
  },
  {
   "cell_type": "raw",
   "id": "2020a4fc",
   "metadata": {},
   "source": [
    "2) What is the relationship between generators and iterators?"
   ]
  },
  {
   "cell_type": "raw",
   "id": "3493a632",
   "metadata": {},
   "source": [
    "Generator is used to generate number in a loop or range we given.\n",
    "Generater generate an iterator by returning all the values in the loop with out effecting the iteration of the loop.\n",
    "Iterator re used mostly to iterate  or convert other objects into an iterator by using iter() function.\n",
    "Iterator  can iter() only iterable objects."
   ]
  },
  {
   "cell_type": "raw",
   "id": "2c08a267",
   "metadata": {},
   "source": [
    "3) What are the signs that a function is a generator function?"
   ]
  },
  {
   "cell_type": "raw",
   "id": "7a38df9a",
   "metadata": {},
   "source": [
    "If a function contain atleast one yield statement then  becomes an generator.\n",
    "Both yield and return will return values to a function."
   ]
  },
  {
   "cell_type": "raw",
   "id": "836deb2c",
   "metadata": {},
   "source": [
    "4) What is the purpose of a yield statement?"
   ]
  },
  {
   "cell_type": "raw",
   "id": "1906737b",
   "metadata": {},
   "source": [
    "In generator function we use yield statement.In some cases  function need to return a large numer of loop.\n",
    "Return will return values only after completion of whole execution or loops of code. it is very time taken if we very large values.\n",
    "In that situation we yield statement , it will return value to function after completing one loop it doesnot wwait to complete whole execution."
   ]
  },
  {
   "cell_type": "raw",
   "id": "59c389e7",
   "metadata": {},
   "source": [
    "5) What is the relationship between map calls and list comprehensions? Make a comparison and contrast between the two."
   ]
  },
  {
   "cell_type": "raw",
   "id": "44bf0adb",
   "metadata": {},
   "source": [
    "Map is inbuilt key word it perform each element in iterable object and it needs one function and iterable object.\n",
    "Where as list comprehension is consice and easier to read as compare to map."
   ]
  }
 ],
 "metadata": {
  "kernelspec": {
   "display_name": "Python 3 (ipykernel)",
   "language": "python",
   "name": "python3"
  },
  "language_info": {
   "codemirror_mode": {
    "name": "ipython",
    "version": 3
   },
   "file_extension": ".py",
   "mimetype": "text/x-python",
   "name": "python",
   "nbconvert_exporter": "python",
   "pygments_lexer": "ipython3",
   "version": "3.9.7"
  }
 },
 "nbformat": 4,
 "nbformat_minor": 5
}
