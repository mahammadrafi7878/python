{
 "cells": [
  {
   "cell_type": "raw",
   "id": "2d2e538f",
   "metadata": {},
   "source": [
    "1. Is the Python Standard Library included with PyInputPlus?"
   ]
  },
  {
   "cell_type": "raw",
   "id": "c2959f52",
   "metadata": {},
   "source": [
    "PyInputPlus is not a part of the python standard library. so you want to install it seperately using\n",
    "   !pip install PyInputPlus"
   ]
  },
  {
   "cell_type": "raw",
   "id": "58868970",
   "metadata": {},
   "source": [
    "2. Why is PyInputPlus commonly imported with import pyinputplus as pypi?"
   ]
  },
  {
   "cell_type": "raw",
   "id": "9d504ba4",
   "metadata": {},
   "source": [
    "pypi is alias of of PyInputPlus.\n",
    "The as pypi code in the import statement saves us from typing PyInputPlus each time we want to call a PyInputPlus fuction instead we can use the shorter Pypi name"
   ]
  },
  {
   "cell_type": "raw",
   "id": "7069694f",
   "metadata": {},
   "source": [
    "3. How do you distinguish between inputInt() and inputFloat()?"
   ]
  },
  {
   "cell_type": "raw",
   "id": "5b150acf",
   "metadata": {},
   "source": [
    "inputInt() accepts an integer value and returns int value.\n",
    "inputFloat() accepts an integer or floating point value and returns float value"
   ]
  },
  {
   "cell_type": "raw",
   "id": "24516227",
   "metadata": {},
   "source": [
    "4. Using PyInputPlus, how do you ensure that the user enters a whole number between 0 and 99?"
   ]
  },
  {
   "cell_type": "raw",
   "id": "8bd47f83",
   "metadata": {},
   "source": [
    "In the inputint function we can set the min =0 and max=99 to ensure user enter numbers between 0&99"
   ]
  },
  {
   "cell_type": "raw",
   "id": "a9304766",
   "metadata": {},
   "source": [
    "5. What is transferred to the keyword arguments allowRegexes and blockRegexes?"
   ]
  },
  {
   "cell_type": "raw",
   "id": "8afe4093",
   "metadata": {},
   "source": [
    "We can do use regular expressions to specify whether input is allowed or not.\n",
    "The allowRegexs and blockRegexes key word arguments take a listof regulr expressions string to determine what The PyInputPlus function will accepts or rejects as valid input.\n",
    "response=pypi.inputNum(allow)\n",
    "response=pypi.inputNum(block"
   ]
  },
  {
   "cell_type": "raw",
   "id": "7a4199c9",
   "metadata": {},
   "source": [
    "6. If a blank input is entered three times, what does inputStr(limit=3) do?"
   ]
  },
  {
   "cell_type": "raw",
   "id": "32eefce5",
   "metadata": {},
   "source": [
    "It will throw RetriLimitException .\n",
    "response=pypi.inputStr(limit=3)"
   ]
  },
  {
   "cell_type": "raw",
   "id": "97029f0e",
   "metadata": {},
   "source": [
    "7. If blank input is entered three times, what does inputStr(limit=3, default='hello') do?"
   ]
  },
  {
   "cell_type": "raw",
   "id": "c05c32ac",
   "metadata": {},
   "source": [
    "When we use limit Keyword argument and also pass a default keyword argument,the function returns the default value instead of raising an exception."
   ]
  }
 ],
 "metadata": {
  "kernelspec": {
   "display_name": "Python 3 (ipykernel)",
   "language": "python",
   "name": "python3"
  },
  "language_info": {
   "codemirror_mode": {
    "name": "ipython",
    "version": 3
   },
   "file_extension": ".py",
   "mimetype": "text/x-python",
   "name": "python",
   "nbconvert_exporter": "python",
   "pygments_lexer": "ipython3",
   "version": "3.9.7"
  }
 },
 "nbformat": 4,
 "nbformat_minor": 5
}
